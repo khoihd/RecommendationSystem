{
 "cells": [
  {
   "cell_type": "code",
   "execution_count": null,
   "id": "392a7734",
   "metadata": {},
   "outputs": [],
   "source": [
    "import math\n",
    "from torch.utils.data import Dataset, DataLoader, Sampler, BatchSampler"
   ]
  },
  {
   "cell_type": "code",
   "execution_count": null,
   "id": "117106d6",
   "metadata": {},
   "outputs": [],
   "source": [
    "class MyDataset(Dataset):\n",
    "    def __init__(self):\n",
    "        self.data = [i*2 for i in range(10)]\n",
    "\n",
    "    def __len__(self):\n",
    "        return len(self.data)\n",
    "\n",
    "    def __getitem__(self, idx):\n",
    "        return self.data[idx]"
   ]
  },
  {
   "cell_type": "code",
   "execution_count": null,
   "id": "ccab1bb8",
   "metadata": {},
   "outputs": [],
   "source": [
    "class MySampler(Sampler):\n",
    "    def __init__(self, data_source):\n",
    "        self.data = data_source\n",
    "\n",
    "    def __len__(self):\n",
    "        len(self.data)\n",
    "\n",
    "    def __iter__(self):\n",
    "        return iter(reversed(range(len(self.data))))"
   ]
  },
  {
   "cell_type": "code",
   "execution_count": null,
   "id": "10cc56c0",
   "metadata": {},
   "outputs": [],
   "source": [
    "class MyBatchSampler(BatchSampler):\n",
    "    def __init__(self, data_source, batch_size):\n",
    "        self.data_source = data_source\n",
    "        self.batch_size = batch_size\n",
    "    \n",
    "    # Return an iteration, where each element is a list of indices\n",
    "    def __iter__(self):\n",
    "        N = len(self.data_source)\n",
    "        for i in range(0, N, self.batch_size):\n",
    "            yield list(range(i, min(i+self.batch_size, N)))\n",
    "\n",
    "    def __len__(self):\n",
    "        return math.ceil(len(self.data) / self.batch_size)\n"
   ]
  },
  {
   "cell_type": "code",
   "execution_count": null,
   "id": "cf03870b",
   "metadata": {},
   "outputs": [],
   "source": [
    "myds = MyDataset()\n",
    "mysampler = MySampler(myds)\n",
    "mydl = DataLoader(myds, batch_size=1, sampler=mysampler)\n",
    "for dl in mydl:\n",
    "    print(f\"{len(dl)}, {dl}\")"
   ]
  },
  {
   "cell_type": "code",
   "execution_count": null,
   "id": "344e0843",
   "metadata": {},
   "outputs": [],
   "source": [
    "myds = MyDataset()\n",
    "mybatchsampler = MyBatchSampler(myds, 3)\n",
    "mydl = DataLoader(myds, batch_sampler=mybatchsampler)\n",
    "for dl in mydl:\n",
    "    print(f\"{len(dl)}, {dl}\")"
   ]
  },
  {
   "cell_type": "code",
   "execution_count": null,
   "id": "ce79e21c",
   "metadata": {},
   "outputs": [],
   "source": []
  }
 ],
 "metadata": {
  "kernelspec": {
   "display_name": "khoihd",
   "language": "python",
   "name": "python3"
  },
  "language_info": {
   "codemirror_mode": {
    "name": "ipython",
    "version": 3
   },
   "file_extension": ".py",
   "mimetype": "text/x-python",
   "name": "python",
   "nbconvert_exporter": "python",
   "pygments_lexer": "ipython3",
   "version": "3.11.7"
  }
 },
 "nbformat": 4,
 "nbformat_minor": 5
}
