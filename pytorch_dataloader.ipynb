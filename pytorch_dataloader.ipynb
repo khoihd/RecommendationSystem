{
 "cells": [
  {
   "cell_type": "code",
   "execution_count": 1,
   "id": "392a7734",
   "metadata": {},
   "outputs": [],
   "source": [
    "import math\n",
    "from torch.utils.data import Dataset, DataLoader, Sampler, BatchSampler"
   ]
  },
  {
   "cell_type": "code",
   "execution_count": 2,
   "id": "117106d6",
   "metadata": {},
   "outputs": [],
   "source": [
    "class MyDataset(Dataset):\n",
    "    def __init__(self):\n",
    "        self.data = [i*2 for i in range(10)]\n",
    "\n",
    "    def __len__(self):\n",
    "        return len(self.data)\n",
    "\n",
    "    def __getitem__(self, idx):\n",
    "        return self.data[idx]"
   ]
  },
  {
   "cell_type": "code",
   "execution_count": 3,
   "id": "ccab1bb8",
   "metadata": {},
   "outputs": [],
   "source": [
    "class MySampler(Sampler):\n",
    "    def __init__(self, data_source):\n",
    "        self.data = data_source\n",
    "\n",
    "    def __len__(self):\n",
    "        len(self.data)\n",
    "\n",
    "    def __iter__(self):\n",
    "        return iter(reversed(range(len(self.data))))"
   ]
  },
  {
   "cell_type": "code",
   "execution_count": 4,
   "id": "10cc56c0",
   "metadata": {},
   "outputs": [],
   "source": [
    "class MyBatchSampler(BatchSampler):\n",
    "    def __init__(self, data_source, batch_size):\n",
    "        self.data_source = data_source\n",
    "        self.batch_size = batch_size\n",
    "    \n",
    "    # Return an iteration, where each element is a list of indices\n",
    "    def __iter__(self):\n",
    "        N = len(self.data_source)\n",
    "        for i in range(0, N, self.batch_size):\n",
    "            yield list(range(i, min(i+self.batch_size, N)))\n",
    "\n",
    "    def __len__(self):\n",
    "        return math.ceil(len(self.data) / self.batch_size)\n"
   ]
  },
  {
   "cell_type": "code",
   "execution_count": 10,
   "id": "cf03870b",
   "metadata": {},
   "outputs": [
    {
     "name": "stdout",
     "output_type": "stream",
     "text": [
      "Use Sampler to determine the loop order of all values from the dataset (sequential, reversed sequential, or random)\n",
      "The Sampler will return a list of indices\n",
      "tensor([18])\n",
      "tensor([16])\n",
      "tensor([14])\n",
      "tensor([12])\n",
      "tensor([10])\n",
      "tensor([8])\n",
      "tensor([6])\n",
      "tensor([4])\n",
      "tensor([2])\n",
      "tensor([0])\n"
     ]
    }
   ],
   "source": [
    "myds = MyDataset()\n",
    "mysampler = MySampler(myds)\n",
    "# Sequential sampling based on the indices provided by sampler\n",
    "mydl = DataLoader(myds, batch_size=1, sampler=mysampler) # batch_size=1 mean each batch has one element\n",
    "print(\"Use Sampler to determine the loop order of all values from the dataset (sequential, reversed sequential, or random)\")\n",
    "print(\"The Sampler will return a list of indices\")\n",
    "for dl in mydl:\n",
    "    # print(f\"{len(dl)}, {dl}\")\n",
    "    print(f\"{dl}\")"
   ]
  },
  {
   "cell_type": "code",
   "execution_count": null,
   "id": "344e0843",
   "metadata": {},
   "outputs": [
    {
     "name": "stdout",
     "output_type": "stream",
     "text": [
      "3, tensor([0, 2, 4])\n",
      "3, tensor([ 6,  8, 10])\n",
      "3, tensor([12, 14, 16])\n",
      "1, tensor([18])\n"
     ]
    }
   ],
   "source": [
    "myds = MyDataset()\n",
    "mybatchsampler = MyBatchSampler(myds, 3)\n",
    "# Direct batch sampling, each batch is retrived from the indices provided by mybatchsampler\n",
    "mydl = DataLoader(myds, batch_sampler=mybatchsampler)\n",
    "print(\"Use BatchSampler to specify which elements to pick for a batch\")\n",
    "print(\"BatchSampler returns an iterator, where each element is a list of indices\")\n",
    "for dl in mydl:\n",
    "    print(f\"{len(dl)}, {dl}\")"
   ]
  },
  {
   "cell_type": "code",
   "execution_count": null,
   "id": "c4cadad6",
   "metadata": {},
   "outputs": [],
   "source": []
  }
 ],
 "metadata": {
  "kernelspec": {
   "display_name": "khoihd",
   "language": "python",
   "name": "python3"
  },
  "language_info": {
   "codemirror_mode": {
    "name": "ipython",
    "version": 3
   },
   "file_extension": ".py",
   "mimetype": "text/x-python",
   "name": "python",
   "nbconvert_exporter": "python",
   "pygments_lexer": "ipython3",
   "version": "3.11.7"
  }
 },
 "nbformat": 4,
 "nbformat_minor": 5
}
