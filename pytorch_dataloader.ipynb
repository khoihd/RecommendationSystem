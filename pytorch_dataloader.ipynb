{
 "cells": [
  {
   "cell_type": "code",
   "execution_count": 1,
   "id": "392a7734",
   "metadata": {},
   "outputs": [],
   "source": [
    "from torch.utils.data import Dataset, DataLoader, Sampler"
   ]
  },
  {
   "cell_type": "code",
   "execution_count": 7,
   "id": "117106d6",
   "metadata": {},
   "outputs": [],
   "source": [
    "class MyDataset(Dataset):\n",
    "    def __init__(self):\n",
    "        self.data = [i*2 for i in range(100)]\n",
    "\n",
    "    def __len__(self):\n",
    "        return len(self.data)\n",
    "\n",
    "    def __getitem__(self, idx):\n",
    "        return self.data[idx]"
   ]
  },
  {
   "cell_type": "code",
   "execution_count": 8,
   "id": "ccab1bb8",
   "metadata": {},
   "outputs": [],
   "source": [
    "class MySampler(Sampler):\n",
    "    def __init__(self, data_source):\n",
    "        self.data = data_source\n",
    "\n",
    "    def __len__(self):\n",
    "        len(self.data)\n",
    "\n",
    "    def __iter__(self):\n",
    "        return iter(reversed(range(len(self.data))))"
   ]
  },
  {
   "cell_type": "code",
   "execution_count": 20,
   "id": "cf03870b",
   "metadata": {},
   "outputs": [],
   "source": [
    "myds = MyDataset()\n",
    "mysampler = MySampler(myds)\n",
    "mydl = DataLoader(myds, batch_size=2, sampler=mysampler)"
   ]
  },
  {
   "cell_type": "code",
   "execution_count": null,
   "id": "344e0843",
   "metadata": {},
   "outputs": [
    {
     "ename": "TypeError",
     "evalue": "'DataLoader' object is not an iterator",
     "output_type": "error",
     "traceback": [
      "\u001b[0;31m---------------------------------------------------------------------------\u001b[0m",
      "\u001b[0;31mTypeError\u001b[0m                                 Traceback (most recent call last)",
      "Cell \u001b[0;32mIn[21], line 1\u001b[0m\n\u001b[0;32m----> 1\u001b[0m \u001b[38;5;28mprint\u001b[39m(\u001b[38;5;28mnext\u001b[39m(mydl))\n",
      "\u001b[0;31mTypeError\u001b[0m: 'DataLoader' object is not an iterator"
     ]
    }
   ],
   "source": [
    "for dl in mydl:\n",
    "    print(f\"{len(dl)}, {dl}\")"
   ]
  },
  {
   "cell_type": "code",
   "execution_count": null,
   "id": "ce79e21c",
   "metadata": {},
   "outputs": [],
   "source": []
  }
 ],
 "metadata": {
  "kernelspec": {
   "display_name": "khoihd",
   "language": "python",
   "name": "python3"
  },
  "language_info": {
   "codemirror_mode": {
    "name": "ipython",
    "version": 3
   },
   "file_extension": ".py",
   "mimetype": "text/x-python",
   "name": "python",
   "nbconvert_exporter": "python",
   "pygments_lexer": "ipython3",
   "version": "3.11.7"
  }
 },
 "nbformat": 4,
 "nbformat_minor": 5
}
