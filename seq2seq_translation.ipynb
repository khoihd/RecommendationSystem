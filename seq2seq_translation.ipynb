{
 "cells": [
  {
   "cell_type": "code",
   "execution_count": null,
   "id": "54160787",
   "metadata": {},
   "outputs": [],
   "source": [
    "import datasets\n",
    "import spacy\n",
    "import torch.nn as nn\n",
    "import torch.nn.utils.rnn as rnn\n",
    "from collections import Counter\n",
    "from torch.utils.data import DataLoader"
   ]
  },
  {
   "cell_type": "code",
   "execution_count": null,
   "id": "e12d2cbd",
   "metadata": {},
   "outputs": [],
   "source": [
    "# Read the dataset using dataset.load_dataset()\n",
    "dataset = datasets.load_dataset(\"data/Multi30k_HuggingFace\")\n",
    "train_set, val_set, test_set = dataset['train'], dataset['validation'], dataset['test']\n",
    "train_set[0]"
   ]
  },
  {
   "cell_type": "code",
   "execution_count": null,
   "id": "f3472c90",
   "metadata": {},
   "outputs": [],
   "source": [
    "# Use tokenizer from spacy\n",
    "en_nlp = spacy.load(\"en_core_web_sm\")\n",
    "de_nlp = spacy.load(\"de_core_news_sm\")"
   ]
  },
  {
   "cell_type": "code",
   "execution_count": null,
   "id": "ff4aa5d7",
   "metadata": {},
   "outputs": [],
   "source": [
    "# Build the token frequency dict, ignore tokens with low frequency\n",
    "en_token_dict = Counter()\n",
    "de_token_dict = Counter()\n",
    "unk, pad, sos, eos = '<unk>', '<pad>', '<sos>', '<eos>'\n",
    "special_tokens = [unk, pad, sos, eos]\n",
    "min_freq = 2\n",
    "\n",
    "for example in train_set:\n",
    "    en_tokens = [token.text.lower() for token in en_nlp.tokenizer(example['en'])]\n",
    "    de_tokens = [token.text.lower() for token in de_nlp.tokenizer(example['de'])]\n",
    "    en_token_dict.update(en_tokens)\n",
    "    de_token_dict.update(de_tokens)\n",
    "\n",
    "# No need to keep track of the frequency\n",
    "en_token_dict = [k for (k, v) in en_token_dict.items() if v >= min_freq]\n",
    "en_token_dict = special_tokens + en_token_dict\n",
    "en_token_dict = {value: index for (index, value) in enumerate(en_token_dict)}\n",
    "\n",
    "de_token_dict = [k for (k, v) in de_token_dict.items() if v >= min_freq]\n",
    "de_token_dict = special_tokens + de_token_dict\n",
    "de_token_dict = {value: index for (index, value) in enumerate(de_token_dict)}"
   ]
  },
  {
   "cell_type": "code",
   "execution_count": null,
   "id": "d1c2e6dd",
   "metadata": {},
   "outputs": [],
   "source": [
    "# Create token list and token IDs for each sentence in the dataset\n",
    "def tokenize_example(example, en_nlp, de_nlp, sos, eos):\n",
    "    en_tokens, de_tokens = [], []\n",
    "    en_ids, de_ids = [], []\n",
    "    for token in en_nlp.tokenizer(example['en']):\n",
    "        token = token.text.lower()\n",
    "        if token not in en_token_dict:\n",
    "            token = unk\n",
    "\n",
    "        en_tokens.append(token)\n",
    "        en_ids.append(en_token_dict[token])\n",
    "    \n",
    "    # input only needs eos token\n",
    "    en_tokens = en_tokens + [eos]\n",
    "    en_ids = en_ids + [en_token_dict[eos]]\n",
    "\n",
    "    for token in de_nlp.tokenizer(example['de']):\n",
    "        token = token.text.lower()\n",
    "        if token not in de_token_dict:\n",
    "            token = unk\n",
    "            \n",
    "        de_tokens.append(token)\n",
    "        de_ids.append(de_token_dict[token])\n",
    "\n",
    "    # output needs both sos and eos tokens\n",
    "    de_tokens = [sos] + de_tokens + [eos]\n",
    "    de_ids = [de_token_dict[sos]] + de_ids + [de_token_dict[eos]] \n",
    "\n",
    "    example['en_tokens'] = en_tokens\n",
    "    example['en_ids'] = en_ids\n",
    "    example['de_tokens'] = de_tokens\n",
    "    example['de_ids'] = de_ids\n",
    "\n",
    "    return example\n"
   ]
  },
  {
   "cell_type": "code",
   "execution_count": null,
   "id": "9339579a",
   "metadata": {},
   "outputs": [],
   "source": [
    "fn_kwargs = {\n",
    "    'en_nlp': en_nlp,\n",
    "    'de_nlp': de_nlp,\n",
    "    'sos': sos,\n",
    "    'eos': eos,\n",
    "}\n",
    "train_set = train_set.map(tokenize_example, fn_kwargs=fn_kwargs)\n",
    "val_set = val_set.map(tokenize_example, fn_kwargs=fn_kwargs)\n",
    "test_set = test_set.map(tokenize_example, fn_kwargs=fn_kwargs)"
   ]
  },
  {
   "cell_type": "code",
   "execution_count": null,
   "id": "ea63aed1",
   "metadata": {},
   "outputs": [],
   "source": [
    "print(train_set[0]['en'])\n",
    "print(train_set[0]['en_tokens'])\n",
    "print(train_set[0]['en_ids'])\n",
    "print(train_set[0]['de'])\n",
    "print(train_set[0]['de_tokens'])\n",
    "print(train_set[0]['de_ids'])"
   ]
  },
  {
   "cell_type": "code",
   "execution_count": null,
   "id": "e36998e4",
   "metadata": {},
   "outputs": [],
   "source": [
    "# Write a collate_fn to pad sequences with variable length into a batch of tensors for Dataloader\n",
    "def get_collate_fn(pad_index):\n",
    "    def collate_fn(batch):\n",
    "        # pad each sequence in the batch to the same length\n",
    "        en_ids = [sequence['en_ids'] for sequence in batch]\n",
    "        de_ids = [sequence['de_ids'] for sequence in batch]\n",
    "        en_ids = rnn.pad_sequence(en_ids, padding_value=pad_index)\n",
    "        de_ids = rnn.pad_sequence(de_ids, padding_value=pad_index)\n",
    "\n",
    "        for i in range(len(en_ids)-1):\n",
    "            print(len(en_ids[i]) == len(en_ids[i+1]))\n",
    "        \n",
    "        for i in range(len(de_ids)-1):\n",
    "            print(len(de_ids[i]) == len(de_ids[i+1]))\n",
    "\n",
    "        return en_ids, de_ids\n"
   ]
  },
  {
   "cell_type": "code",
   "execution_count": null,
   "id": "eb06c009",
   "metadata": {},
   "outputs": [],
   "source": [
    "pad_idx = en_token_dict[pad]\n",
    "collate_fn = get_collate_fn(pad_idx)\n",
    "train_dl = DataLoader(train_set, collate_fn=collate_fn, batch_size=64, shuffle=True)"
   ]
  },
  {
   "cell_type": "code",
   "execution_count": null,
   "id": "b6418d6c",
   "metadata": {},
   "outputs": [],
   "source": [
    "for dl in train_dl:\n",
    "    en, de = dl\n",
    "    print(en.size())\n",
    "    print(de.size())\n",
    "    break"
   ]
  },
  {
   "cell_type": "code",
   "execution_count": null,
   "id": "6d127bf9",
   "metadata": {},
   "outputs": [],
   "source": [
    "class Encoder(nn.Module):\n",
    "    def __init__(self, token_count, embedding_dim, rnn_hidden_dim, rnn_num_layers):\n",
    "        super().__init__()\n",
    "        # 1 layer Embedding\n",
    "        # 2 layers GRU\n",
    "        # the latent space is the same as the hidden space of the last layer of the GRU\n",
    "        self.embedding = nn.Embedding(token_count, embedding_dim)\n",
    "        self.encoder = nn.GRU(embedding_dim, rnn_hidden_dim, num_layers=rnn_num_layers, batch_first=True, bias=True)\n",
    "    \n",
    "    def forward(self, x):\n",
    "        # hidden state at the last layer for every word in the sequence:\n",
    "        #       batch, sequence, hidden_dim\n",
    "        # final hidden state at every layer\n",
    "        #       layer, batch, hidden_dim\n",
    "        x = self.embedding(x)\n",
    "        state_sequence, state_layer = self.encoder(x)\n",
    "        return state_sequence, state_layer"
   ]
  },
  {
   "cell_type": "code",
   "execution_count": null,
   "id": "b776f62d",
   "metadata": {},
   "outputs": [],
   "source": [
    "class Decoder(nn.Module):\n",
    "    def __init__(self, token_count, embedding_dim, rnn_num_layers):\n",
    "        super().__init__()\n",
    "        self.embedding = nn.Embedding(token_count, embedding_dim)\n",
    "        self.decoder = nn.GRU(embedding_dim, token_count, num_layers=rnn_num_layers, batch_first=True, bias=True)\n",
    "    \n",
    "    def forward(self, x, latent):\n",
    "        x = self.embedding(x)\n",
    "        state_sequence, state_layer = self.decoder(x, latent)\n",
    "        return state_sequence, state_layer\n"
   ]
  },
  {
   "cell_type": "code",
   "execution_count": null,
   "id": "baa3a507",
   "metadata": {},
   "outputs": [],
   "source": [
    "class Seq2Seq(nn.Module):\n",
    "    def __init__(self, token_count, embedding_dim, rnn_hidden_dim, rnn_num_layers):\n",
    "        super().__init__()\n",
    "        self.encoder = Encoder(token_count, embedding_dim, rnn_hidden_dim, rnn_num_layers)\n",
    "        self.decoder = Decoder(token_count, embedding_dim, rnn_num_layers)\n",
    "    \n",
    "    def forward(self, en, de):\n",
    "        z, _ = self.encoder(en)\n",
    "        z = z[:,-1,:]\n",
    "        self.decoder()\n",
    "\n",
    "\n"
   ]
  }
 ],
 "metadata": {
  "kernelspec": {
   "display_name": "khoihd",
   "language": "python",
   "name": "python3"
  },
  "language_info": {
   "codemirror_mode": {
    "name": "ipython",
    "version": 3
   },
   "file_extension": ".py",
   "mimetype": "text/x-python",
   "name": "python",
   "nbconvert_exporter": "python",
   "pygments_lexer": "ipython3",
   "version": "3.11.7"
  }
 },
 "nbformat": 4,
 "nbformat_minor": 5
}
