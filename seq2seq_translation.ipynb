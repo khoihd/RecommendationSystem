{
 "cells": [
  {
   "cell_type": "code",
   "execution_count": 1,
   "id": "54160787",
   "metadata": {},
   "outputs": [],
   "source": [
    "import datasets\n",
    "import spacy\n",
    "from collections import Counter\n",
    "import torch.nn as nn"
   ]
  },
  {
   "cell_type": "code",
   "execution_count": 2,
   "id": "e12d2cbd",
   "metadata": {},
   "outputs": [
    {
     "data": {
      "text/plain": [
       "{'en': 'Two young, White males are outside near many bushes.',\n",
       " 'de': 'Zwei junge weiße Männer sind im Freien in der Nähe vieler Büsche.'}"
      ]
     },
     "execution_count": 2,
     "metadata": {},
     "output_type": "execute_result"
    }
   ],
   "source": [
    "# Read the dataset using dataset.load_dataset()\n",
    "dataset = datasets.load_dataset(\"data/Multi30k_HuggingFace\")\n",
    "train_set, val_set, test_set = dataset['train'], dataset['validation'], dataset['test']\n",
    "train_set[0]"
   ]
  },
  {
   "cell_type": "code",
   "execution_count": 3,
   "id": "f3472c90",
   "metadata": {},
   "outputs": [],
   "source": [
    "# Use tokenizer from spacy\n",
    "en_nlp = spacy.load(\"en_core_web_sm\")\n",
    "de_nlp = spacy.load(\"de_core_news_sm\")"
   ]
  },
  {
   "cell_type": "code",
   "execution_count": 5,
   "id": "ff4aa5d7",
   "metadata": {},
   "outputs": [],
   "source": [
    "# Build the token frequency dict, to ignore those with small frequency\n",
    "en_token_dict = Counter()\n",
    "de_token_dict = Counter()\n",
    "\n",
    "for example in train_set:\n",
    "    en_tokens = [token.text.lower() for token in en_nlp.tokenizer(example['en'])]\n",
    "    de_tokens = [token.text.lower() for token in de_nlp.tokenizer(example['de'])]\n",
    "    en_token_dict.update(en_tokens)\n",
    "    de_token_dict.update(de_tokens)"
   ]
  },
  {
   "cell_type": "code",
   "execution_count": 10,
   "id": "d1c2e6dd",
   "metadata": {},
   "outputs": [],
   "source": [
    "sos = '<sos>'\n",
    "eos = '<eos>'\n",
    "unk = '<unk'\n",
    "pad = '<pad>'\n",
    "min_freq = 2\n",
    "\n",
    "def tokenize_example(example, en_nlp, de_nlp, sos, eos, unk, min_freq):\n",
    "    en_tokens = [token.text.lower() if en_token_dict.get(token.text.lower(), 0) >= min_freq\n",
    "                    else unk for token in en_nlp.tokenizer(example['en'])]\n",
    "    \n",
    "    de_tokens = [token.text.lower() if de_token_dict.get(token.text.lower(), 0) >= min_freq\n",
    "                    else unk for token in de_nlp.tokenizer(example['de'])]\n",
    "\n",
    "    example['en_tokens'] = en_tokens + [eos] # input only needs eos token\n",
    "    example['de_tokens'] = [sos] + de_tokens + [eos] # output needs both sos and eos tokens\n",
    "\n",
    "    return example\n"
   ]
  },
  {
   "cell_type": "code",
   "execution_count": 11,
   "id": "9339579a",
   "metadata": {},
   "outputs": [
    {
     "data": {
      "application/vnd.jupyter.widget-view+json": {
       "model_id": "91fee9fc4da94fdeb004705021ebf1c5",
       "version_major": 2,
       "version_minor": 0
      },
      "text/plain": [
       "Map:   0%|          | 0/29000 [00:00<?, ? examples/s]"
      ]
     },
     "metadata": {},
     "output_type": "display_data"
    },
    {
     "data": {
      "application/vnd.jupyter.widget-view+json": {
       "model_id": "c4524192d18d49649a559d9c6f5590a0",
       "version_major": 2,
       "version_minor": 0
      },
      "text/plain": [
       "Map:   0%|          | 0/1014 [00:00<?, ? examples/s]"
      ]
     },
     "metadata": {},
     "output_type": "display_data"
    },
    {
     "data": {
      "application/vnd.jupyter.widget-view+json": {
       "model_id": "830f1df4f7174448bb006ead5bd035a6",
       "version_major": 2,
       "version_minor": 0
      },
      "text/plain": [
       "Map:   0%|          | 0/1000 [00:00<?, ? examples/s]"
      ]
     },
     "metadata": {},
     "output_type": "display_data"
    }
   ],
   "source": [
    "fn_kwargs = {\n",
    "    'en_nlp': en_nlp,\n",
    "    'de_nlp': de_nlp,\n",
    "    'sos': sos,\n",
    "    'eos': eos,\n",
    "    'unk': unk,\n",
    "    'min_freq': min_freq\n",
    "}\n",
    "train_set = train_set.map(tokenize_example, fn_kwargs=fn_kwargs)\n",
    "val_set = val_set.map(tokenize_example, fn_kwargs=fn_kwargs)\n",
    "test_set = test_set.map(tokenize_example, fn_kwargs=fn_kwargs)"
   ]
  },
  {
   "cell_type": "code",
   "execution_count": 9,
   "id": "ea63aed1",
   "metadata": {},
   "outputs": [
    {
     "name": "stdout",
     "output_type": "stream",
     "text": [
      "Two young, White males are outside near many bushes.\n",
      "['two', 'young', ',', 'white', 'males', 'are', 'outside', 'near', 'many', 'bushes', '.', '<eos>']\n",
      "Zwei junge weiße Männer sind im Freien in der Nähe vieler Büsche.\n",
      "['<sos>', 'zwei', 'junge', 'weiße', 'männer', 'sind', 'im', 'freien', 'in', 'der', 'nähe', '<unk', 'büsche', '.', '<eos>']\n"
     ]
    }
   ],
   "source": [
    "print(train_set[0]['en'])\n",
    "print(train_set[0]['en_tokens'])\n",
    "print(train_set[0]['de'])\n",
    "print(train_set[0]['de_tokens'])"
   ]
  },
  {
   "cell_type": "code",
   "execution_count": 12,
   "id": "1d346a52",
   "metadata": {},
   "outputs": [],
   "source": [
    "# Vocabulary\n",
    "en_vocab = [k for (k, v) in en_token_dict.items() if v >= min_freq]\n",
    "de_vocab = [k for (k, v) in de_token_dict.items() if v >= min_freq]\n",
    "\n",
    "en_vocab = [unk, pad, sos, eos] + list(en_token_dict)\n",
    "de_vocab = [unk, pad, sos, eos] + list(de_token_dict)"
   ]
  },
  {
   "cell_type": "code",
   "execution_count": null,
   "id": "65bdc50f",
   "metadata": {},
   "outputs": [],
   "source": [
    "def lookup_tokenids(example, en_vocab, de_vocab):\n",
    "    en_ids = []\n",
    "    de_ids = []\n",
    "    for w in example['en_tokens']:\n",
    "        en_idx = en_vocab.index(w) if w in en_vocab else 0\n",
    "        en_ids.append(en_idx)\n",
    "        \n",
    "    for w in example['de_tokens']:\n",
    "        de_idx = de_vocab.index(w) if w in de_vocab else 0\n",
    "        de_ids.append(de_idx)\n",
    "    \n",
    "    example['en_ids'] = en_ids\n",
    "    example['de_ids'] = de_ids\n",
    "    \n",
    "    return example"
   ]
  },
  {
   "cell_type": "code",
   "execution_count": null,
   "id": "bf276f1d",
   "metadata": {},
   "outputs": [],
   "source": [
    "train_set = train_set.map(lookup_tokenids, fn_kwargs={'en_vocab': en_vocab, 'de_vocab': de_vocab})\n",
    "val_set = val_set.map(lookup_tokenids, fn_kwargs={'en_vocab': en_vocab, 'de_vocab': de_vocab})\n",
    "test_set = test_set.map(lookup_tokenids, fn_kwargs={'en_vocab': en_vocab, 'de_vocab': de_vocab})"
   ]
  },
  {
   "cell_type": "code",
   "execution_count": null,
   "id": "6d127bf9",
   "metadata": {},
   "outputs": [],
   "source": [
    "class Encoder(nn.Module):\n",
    "    def __init__(self, input_dim, embedding_dim, rnn_hidden_dim, rnn_num_layers):\n",
    "        super().__init__()\n",
    "        # 1 layer Embedding\n",
    "        # 2 layers GRU\n",
    "        # the latent space is the same as the hidden space of the last layer of the GRU\n",
    "        self.embedding = nn.Embedding(input_dim, embedding_dim)\n",
    "        self.encoder = nn.GRU(embedding_dim, rnn_hidden_dim, num_layers=rnn_num_layers, batch_first=True, bias=True)\n",
    "    \n",
    "    def forward(self, x):\n",
    "        x = self.embedding(x)\n",
    "        # hidden state at the last layer for every word in the sequence:\n",
    "        #       batch, sequence, hidden_dim\n",
    "        # final hidden state at every layer\n",
    "        #       layer, batch, hidden_dim\n",
    "        x = self.embedding(x)\n",
    "        state_sequence, state_layer = self.encoder(x)\n",
    "        return state_sequence, state_layer"
   ]
  },
  {
   "cell_type": "code",
   "execution_count": null,
   "id": "b776f62d",
   "metadata": {},
   "outputs": [],
   "source": [
    "class Decoder(nn.Module):\n",
    "    def __init__(self, output_dim, embedding_dim, rnn_hidden_dim):\n",
    "        super().__init__()\n",
    "        self.embedding = nn.Embedding(embedding_dim, output_dim)\n",
    "        self.decoder = nn.GRU(rnn_hidden_dim, embedding_dim)\n",
    "    \n",
    "    def forward(self, x):\n",
    "        x = self.embedding(x)"
   ]
  },
  {
   "cell_type": "code",
   "execution_count": null,
   "id": "baa3a507",
   "metadata": {},
   "outputs": [],
   "source": [
    "class Seq2Seq(nn.Module):\n",
    "    def __init__(self):\n",
    "        super().__init__()\n",
    "        self.decoder = Decoder()\n",
    "        \n",
    "    \n",
    "    def forward(self, x):\n"
   ]
  }
 ],
 "metadata": {
  "kernelspec": {
   "display_name": "khoihd",
   "language": "python",
   "name": "python3"
  },
  "language_info": {
   "codemirror_mode": {
    "name": "ipython",
    "version": 3
   },
   "file_extension": ".py",
   "mimetype": "text/x-python",
   "name": "python",
   "nbconvert_exporter": "python",
   "pygments_lexer": "ipython3",
   "version": "3.11.7"
  }
 },
 "nbformat": 4,
 "nbformat_minor": 5
}
