{
  "cells": [
    {
      "cell_type": "code",
      "execution_count": null,
      "id": "54160787",
      "metadata": {
        "id": "54160787"
      },
      "outputs": [],
      "source": [
        "import datasets\n",
        "import spacy\n",
        "import random\n",
        "import numpy as np\n",
        "import evaluate\n",
        "import torch\n",
        "import torch.nn as nn\n",
        "import torch.nn.utils.rnn as rnn\n",
        "import torch.nn.functional as F\n",
        "import torch.optim as optim\n",
        "from datetime import datetime\n",
        "from collections import Counter\n",
        "from torch.utils.data import DataLoader"
      ]
    },
    {
      "cell_type": "code",
      "execution_count": null,
      "id": "47098d92",
      "metadata": {
        "id": "47098d92"
      },
      "outputs": [],
      "source": [
        "# Commands used for Google colab\n",
        "google_colab = False\n",
        "if google_colab:\n",
        "  !mkdir -p data/Multi30k_HuggingFace\n",
        "  !pip install -U datasets\n",
        "  !python -m spacy download en_core_web_sm\n",
        "  !python -m spacy download de_core_news_sm"
      ]
    },
    {
      "cell_type": "code",
      "execution_count": null,
      "id": "9ef28dfc",
      "metadata": {},
      "outputs": [],
      "source": [
        "# Set random seeds\n",
        "def setseed(seed):\n",
        "    \"\"\"Set all seeds and deterministic CuDNN behavior\"\"\"\n",
        "    # Python random module\n",
        "    random.seed(seed)\n",
        "    \n",
        "    # NumPy\n",
        "    np.random.seed(seed)\n",
        "    \n",
        "    # PyTorch (CPU and all GPUs)\n",
        "    torch.manual_seed(seed)\n",
        "    torch.cuda.manual_seed_all(seed)\n",
        "    \n",
        "    # CuDNN configurations (critical for reproducibility)\n",
        "    torch.backends.cudnn.deterministic = True\n",
        "    torch.backends.cudnn.benchmark = False\n",
        "\n",
        "setseed(1711)"
      ]
    },
    {
      "cell_type": "code",
      "execution_count": null,
      "id": "2e5fdec0",
      "metadata": {
        "id": "2e5fdec0"
      },
      "outputs": [],
      "source": [
        "device = torch.device('cpu')\n",
        "if torch.backends.mps.is_available() and torch.backends.mps.is_built():\n",
        "    device = torch.device(\"mps\")\n",
        "    print(f\"MPS device available: {device}\")\n",
        "elif torch.cuda.is_available():\n",
        "    device = torch.device('cuda')\n",
        "    print(f\"CUDA device available: {device}\")"
      ]
    },
    {
      "cell_type": "code",
      "execution_count": null,
      "id": "e12d2cbd",
      "metadata": {
        "id": "e12d2cbd"
      },
      "outputs": [],
      "source": [
        "# Read the dataset using dataset.load_dataset()\n",
        "dataset = datasets.load_dataset(\"data/Multi30k_HuggingFace\")\n",
        "train_set, val_set, test_set = dataset['train'], dataset['validation'], dataset['test']\n",
        "train_set[0]"
      ]
    },
    {
      "cell_type": "code",
      "execution_count": null,
      "id": "f3472c90",
      "metadata": {
        "id": "f3472c90"
      },
      "outputs": [],
      "source": [
        "# Use tokenizer from spacy\n",
        "en_nlp = spacy.load(\"en_core_web_sm\")\n",
        "de_nlp = spacy.load(\"de_core_news_sm\")"
      ]
    },
    {
      "cell_type": "code",
      "execution_count": null,
      "id": "ff4aa5d7",
      "metadata": {
        "id": "ff4aa5d7"
      },
      "outputs": [],
      "source": [
        "# Build the token frequency dict, ignore tokens with low frequency\n",
        "en_token_dict = Counter()\n",
        "de_token_dict = Counter()\n",
        "unk, pad, sos, eos = '<unk>', '<pad>', '<sos>', '<eos>'\n",
        "special_tokens = [unk, pad, sos, eos]\n",
        "min_freq = 2\n",
        "\n",
        "for example in train_set:\n",
        "    en_tokens = [token.text.lower() for token in en_nlp.tokenizer(example['en'])]\n",
        "    de_tokens = [token.text.lower() for token in de_nlp.tokenizer(example['de'])]\n",
        "    en_token_dict.update(en_tokens)\n",
        "    de_token_dict.update(de_tokens)\n",
        "\n",
        "# No need to keep track of the frequency\n",
        "en_token_dict = [k for (k, v) in en_token_dict.items() if v >= min_freq]\n",
        "en_token_dict = special_tokens + en_token_dict\n",
        "en_token_dict = {value: index for (index, value) in enumerate(en_token_dict)}\n",
        "en_idx_token_dict = {value: key for (key, value) in en_token_dict.items()}\n",
        "\n",
        "de_token_dict = [k for (k, v) in de_token_dict.items() if v >= min_freq]\n",
        "de_token_dict = special_tokens + de_token_dict\n",
        "de_token_dict = {value: index for (index, value) in enumerate(de_token_dict)}\n",
        "de_idx_token_dict = {value: key for (key, value) in de_token_dict.items()}"
      ]
    },
    {
      "cell_type": "code",
      "execution_count": null,
      "id": "24256f0e",
      "metadata": {
        "id": "24256f0e"
      },
      "outputs": [],
      "source": [
        "# Check if special tokens share the same index\n",
        "for special in special_tokens:\n",
        "    if not en_token_dict[special] == de_token_dict[special]:\n",
        "        print(f\"Token {special} mismatch between EN and DE dictionary\")"
      ]
    },
    {
      "cell_type": "code",
      "execution_count": null,
      "id": "d1c2e6dd",
      "metadata": {
        "id": "d1c2e6dd"
      },
      "outputs": [],
      "source": [
        "# Create token list and token IDs for each sentence in the dataset\n",
        "def tokenize_example(example, en_nlp, de_nlp, en_token_dict, de_token_dict, sos, eos):\n",
        "    en_tokens, de_tokens = [], []\n",
        "    en_ids, de_ids = [], []\n",
        "    for token in en_nlp.tokenizer(example['en']):\n",
        "        token = token.text.lower()\n",
        "        if token not in en_token_dict:\n",
        "            token = unk\n",
        "\n",
        "        en_tokens.append(token)\n",
        "        en_ids.append(en_token_dict[token])\n",
        "\n",
        "    # Just add both sos and eos\n",
        "    # sos and eos tokens will be processed later in the collate_fn when merging data into batch\n",
        "    en_tokens = [sos] + en_tokens + [eos]\n",
        "    en_ids = [en_token_dict[sos]] + en_ids + [en_token_dict[eos]]\n",
        "\n",
        "    for token in de_nlp.tokenizer(example['de']):\n",
        "        token = token.text.lower()\n",
        "        if token not in de_token_dict:\n",
        "            token = unk\n",
        "\n",
        "        de_tokens.append(token)\n",
        "        de_ids.append(de_token_dict[token])\n",
        "\n",
        "    de_tokens = [sos] + de_tokens + [eos]\n",
        "    de_ids = [de_token_dict[sos]] + de_ids + [de_token_dict[eos]]\n",
        "\n",
        "    example['en_tokens'] = en_tokens\n",
        "    example['en_ids'] = en_ids\n",
        "    example['de_tokens'] = de_tokens\n",
        "    example['de_ids'] = de_ids\n",
        "\n",
        "    return example\n"
      ]
    },
    {
      "cell_type": "code",
      "execution_count": null,
      "id": "9339579a",
      "metadata": {
        "id": "9339579a"
      },
      "outputs": [],
      "source": [
        "fn_kwargs = {\n",
        "    'en_nlp': en_nlp,\n",
        "    'de_nlp': de_nlp,\n",
        "    'en_token_dict': en_token_dict,\n",
        "    'de_token_dict': de_token_dict,\n",
        "    'sos': sos,\n",
        "    'eos': eos,\n",
        "}\n",
        "train_set = train_set.map(tokenize_example, fn_kwargs=fn_kwargs)\n",
        "val_set = val_set.map(tokenize_example, fn_kwargs=fn_kwargs)\n",
        "test_set = test_set.map(tokenize_example, fn_kwargs=fn_kwargs)"
      ]
    },
    {
      "cell_type": "code",
      "execution_count": null,
      "id": "ea63aed1",
      "metadata": {
        "id": "ea63aed1"
      },
      "outputs": [],
      "source": [
        "print(train_set[0]['en'])\n",
        "print(train_set[0]['en_tokens'])\n",
        "print(train_set[0]['en_ids'])\n",
        "print(train_set[0]['de'])\n",
        "print(train_set[0]['de_tokens'])\n",
        "print(train_set[0]['de_ids'])"
      ]
    },
    {
      "cell_type": "code",
      "execution_count": null,
      "id": "e36998e4",
      "metadata": {
        "id": "e36998e4"
      },
      "outputs": [],
      "source": [
        "# Write a collate_fn to pad sequences with variable length into a batch of tensors for Dataloader\n",
        "def get_collate_fn(pad_index=1):\n",
        "    def collate_fn(batch):\n",
        "        # Encoder input: <sequence> + <eos>\n",
        "        encoder_input = [torch.tensor(sequence['en_ids'][1:]) for sequence in batch]\n",
        "        encoder_input = rnn.pad_sequence(encoder_input, padding_value=pad_index, batch_first=True)\n",
        "\n",
        "        # Decode input: <sos> + <sequence>\n",
        "        decoder_input = [torch.tensor(sequence['de_ids'][:-1]) for sequence in batch]\n",
        "        decoder_input = rnn.pad_sequence(decoder_input, padding_value=pad_index, batch_first=True)\n",
        "\n",
        "        # Decode output: <sequence> + <eos>\n",
        "        decoder_output = [torch.tensor(sequence['de_ids'][1:]) for sequence in batch]\n",
        "        decoder_output = rnn.pad_sequence(decoder_output, padding_value=pad_index, batch_first=True)\n",
        "\n",
        "        return encoder_input, decoder_input, decoder_output\n",
        "\n",
        "    return collate_fn"
      ]
    },
    {
      "cell_type": "code",
      "execution_count": null,
      "id": "eb06c009",
      "metadata": {
        "id": "eb06c009"
      },
      "outputs": [],
      "source": [
        "collate_fn = get_collate_fn()\n",
        "batch_size = 128\n",
        "train_dl = DataLoader(train_set, collate_fn=collate_fn, batch_size=batch_size, shuffle=True)\n",
        "val_dl = DataLoader(val_set, collate_fn=collate_fn, batch_size=batch_size, shuffle=True)\n",
        "test_dl = DataLoader(test_set, collate_fn=collate_fn, batch_size=batch_size, shuffle=True)"
      ]
    },
    {
      "cell_type": "code",
      "execution_count": null,
      "id": "6d127bf9",
      "metadata": {
        "id": "6d127bf9"
      },
      "outputs": [],
      "source": [
        "class Encoder(nn.Module):\n",
        "    def __init__(self, input_dim, embedding_dim, rnn_hidden_dim, rnn_num_layers):\n",
        "        super().__init__()\n",
        "        # 1 layer Embedding\n",
        "        # 2 layers GRU\n",
        "        # the latent space is the same as the hidden space of the last layer of the GRU\n",
        "        self.embedding = nn.Embedding(input_dim, embedding_dim)\n",
        "        self.encoder = nn.GRU(embedding_dim, rnn_hidden_dim, num_layers=rnn_num_layers, batch_first=True, bias=True)\n",
        "\n",
        "    def forward(self, x):\n",
        "        # hidden state at the last layer for every word in the sequence:\n",
        "        #       batch, sequence, hidden_dim\n",
        "        # final hidden state at every layer\n",
        "        #       layer, batch, hidden_dim\n",
        "        x = self.embedding(x)\n",
        "        _, state_layer = self.encoder(x)\n",
        "        return state_layer"
      ]
    },
    {
      "cell_type": "code",
      "execution_count": null,
      "id": "b776f62d",
      "metadata": {
        "id": "b776f62d"
      },
      "outputs": [],
      "source": [
        "class Decoder(nn.Module):\n",
        "    def __init__(self, output_dim, embedding_dim, rnn_hidden_dim, rnn_num_layers):\n",
        "        super().__init__()\n",
        "        self.embedding = nn.Embedding(output_dim, embedding_dim)\n",
        "        self.decoder = nn.GRU(embedding_dim, rnn_hidden_dim, num_layers=rnn_num_layers, batch_first=True, bias=True)\n",
        "        self.fc = nn.Linear(rnn_hidden_dim, output_dim)\n",
        "\n",
        "    def forward(self, x, latent):\n",
        "        x = self.embedding(x)\n",
        "        # hidden state at the last layer for every word in the sequence:\n",
        "        #       batch, sequence, hidden_dim\n",
        "        # final hidden state at every layer\n",
        "        #       layer, batch, hidden_dim\n",
        "        state_sequence, state_layer = self.decoder(x, latent)\n",
        "        return self.fc(state_sequence), state_layer"
      ]
    },
    {
      "cell_type": "code",
      "execution_count": null,
      "id": "baa3a507",
      "metadata": {
        "id": "baa3a507"
      },
      "outputs": [],
      "source": [
        "class Seq2Seq(nn.Module):\n",
        "    def __init__(self, encoder, decoder):\n",
        "        super().__init__()\n",
        "        self.encoder = encoder\n",
        "        self.decoder = decoder\n",
        "\n",
        "    def forward(self, encoder_input, decoder_input):\n",
        "        z = self.encoder(encoder_input)\n",
        "        decoder_output, decoder_state_layer = self.decoder(decoder_input, z)\n",
        "        return decoder_output, decoder_state_layer\n"
      ]
    },
    {
      "cell_type": "code",
      "execution_count": null,
      "id": "fc27fe3b",
      "metadata": {
        "id": "fc27fe3b"
      },
      "outputs": [],
      "source": [
        "input_dim = len(en_token_dict)\n",
        "output_dim = len(de_token_dict)\n",
        "encoder_embedding_dim = 256\n",
        "decoder_embedding_dim = 256\n",
        "rnn_hidden_dim = 512\n",
        "rnn_num_layers = 2\n",
        "\n",
        "encoder = Encoder(input_dim, encoder_embedding_dim, rnn_hidden_dim, rnn_num_layers)\n",
        "decoder = Decoder(output_dim, decoder_embedding_dim, rnn_hidden_dim, rnn_num_layers)\n",
        "seq2seq = Seq2Seq(encoder, decoder).to(device)\n",
        "optimizer = optim.Adam(seq2seq.parameters(), lr=1e-3)\n",
        "epochs = 20\n",
        "\n",
        "def train_fn(model=seq2seq, optimizer=optimizer, loss_fn=F.cross_entropy, epochs=epochs, dataloader=train_dl, pad_idx=1):\n",
        "    total_loss = 0\n",
        "    for epoch in range(epochs):\n",
        "        epoch_loss = 0\n",
        "        epoch_start = datetime.now()\n",
        "        next_chunk = 0\n",
        "        for idx, dl in enumerate(train_dl):\n",
        "            batch_start = datetime.now()\n",
        "            encoder_input, decoder_input, decoder_output = dl\n",
        "            encoder_input = encoder_input.to(device)\n",
        "            decoder_input = decoder_input.to(device)\n",
        "            decoder_output = decoder_output.to(device)\n",
        "            output, _ = model(encoder_input, decoder_input)\n",
        "            loss = loss_fn(output.permute(0, 2, 1), decoder_output, ignore_index=pad_idx, reduction='mean')\n",
        "\n",
        "            optimizer.zero_grad()\n",
        "            loss.backward()\n",
        "            optimizer.step()\n",
        "\n",
        "            epoch_loss += loss.item()\n",
        "            batch_runtime = datetime.now() - batch_start\n",
        "            if idx == next_chunk:\n",
        "                print(f\"Chunk={idx}: loss={loss.item():.2f}, batch runtime={batch_runtime.total_seconds()*1000:.2f} ms\")\n",
        "                next_chunk += len(train_dl) // 10\n",
        "\n",
        "        total_loss += epoch_loss\n",
        "        epoch_runtime = datetime.now() - epoch_start\n",
        "        print(f\"Epoch={epoch}: Loss={epoch_loss / len(train_dl):.2f}, epoch runtime={epoch_runtime.seconds:.2f} seconds\")\n",
        "\n",
        "    return total_loss / len(train_dl)"
      ]
    },
    {
      "cell_type": "code",
      "execution_count": null,
      "id": "c3a5974b",
      "metadata": {
        "id": "c3a5974b"
      },
      "outputs": [],
      "source": [
        "train_err = train_fn(seq2seq)"
      ]
    },
    {
      "cell_type": "code",
      "execution_count": null,
      "id": "9d4487b1",
      "metadata": {
        "id": "9d4487b1"
      },
      "outputs": [],
      "source": [
        "# Save the whole model\n",
        "MODEL_PATH = \"seq2seq.pt\"\n",
        "torch.save(seq2seq.state_dict(), MODEL_PATH)"
      ]
    },
    {
      "cell_type": "code",
      "execution_count": null,
      "id": "b7b03c5c",
      "metadata": {
        "id": "b7b03c5c"
      },
      "outputs": [],
      "source": [
        "# Load the Seq2Seq model by first initializing the architecture of Encoder and Decoder\n",
        "GOOGLE_COLAB_MODEL_PATH = \"seq2seq_googlecolab.pt\"\n",
        "reload_encoder = Encoder(input_dim, encoder_embedding_dim, rnn_hidden_dim, rnn_num_layers)\n",
        "reload_decoder = Decoder(output_dim, decoder_embedding_dim, rnn_hidden_dim, rnn_num_layers)\n",
        "reload_seq2seq = Seq2Seq(reload_encoder, reload_decoder).to(device)\n",
        "reload_seq2seq.load_state_dict(torch.load(GOOGLE_COLAB_MODEL_PATH, weights_only=False, map_location=torch.device('mps')))"
      ]
    },
    {
      "cell_type": "code",
      "execution_count": null,
      "id": "16ee7c76",
      "metadata": {},
      "outputs": [],
      "source": [
        "def translate(model, input_tokens, de_idx_token_dict, device, sos_idx=2, max_length=100):\n",
        "    model.eval()\n",
        "    output = []\n",
        "    input_tokens = input_tokens.unsqueeze(0)\n",
        "    \n",
        "    with torch.no_grad():\n",
        "        word = torch.tensor([[sos_idx]]).to(device)\n",
        "        state = model.encoder(input_tokens)\n",
        "        for _ in range(max_length):\n",
        "            word, _, state = model.decoder(word, state)\n",
        "            # Convert FCC into embedding value\n",
        "            word = torch.argmax(word, dim=-1).item()\n",
        "            word_token = de_idx_token_dict[word]\n",
        "            word = torch.tensor([[word]]).to(device)\n",
        "            output.append(word_token)\n",
        "            if word_token == eos:\n",
        "                break\n",
        "    \n",
        "    return output"
      ]
    },
    {
      "cell_type": "code",
      "execution_count": null,
      "id": "9d76a810",
      "metadata": {},
      "outputs": [],
      "source": [
        "def get_blue_tokenizer(de_nlp, de_token_dict, unk):\n",
        "    def blue_tokenizer(s):\n",
        "        de_tokens = [token.text.lower() if token.text.lower() in de_token_dict else unk for token in de_nlp.tokenizer(s)]\n",
        "        return de_tokens\n",
        "\n",
        "    return blue_tokenizer"
      ]
    },
    {
      "cell_type": "code",
      "execution_count": null,
      "id": "838ba094",
      "metadata": {},
      "outputs": [],
      "source": [
        "def de_idx_to_sentence(indices, de_idx_token_dict, pad_idx=1):\n",
        "    sentence = [de_idx_token_dict[idx.item()] for idx in indices if idx.item() != pad_idx]\n",
        "    return \" \".join(sentence)"
      ]
    },
    {
      "cell_type": "code",
      "execution_count": null,
      "id": "b8b5922f",
      "metadata": {},
      "outputs": [],
      "source": [
        "val_dl = DataLoader(val_set, collate_fn=collate_fn, batch_size=batch_size, shuffle=True)\n",
        "max_length = 30\n",
        "# def eval(model, val_dl):\n",
        "model = reload_seq2seq\n",
        "model.eval()\n",
        "tokenizer_fn = get_blue_tokenizer(de_nlp, de_token_dict, unk)\n",
        "bleu = evaluate.load(\"bleu\")\n",
        "\n",
        "all_translated = []\n",
        "all_ground_truth = []\n",
        "with open(\"bleu.txt\", \"w\") as f:\n",
        "    with torch.no_grad():\n",
        "        for idx, dl in enumerate(val_dl):\n",
        "            encoder_input, _, decoder_output = dl\n",
        "            encoder_input = encoder_input.to(device)\n",
        "            decoder_output = decoder_output.to(device)\n",
        "\n",
        "            for i, seq_input in enumerate(encoder_input):\n",
        "                translated = translate(model, seq_input, en_nlp, en_token_dict, de_idx_token_dict, device, max_length)\n",
        "                de_groud_truth = de_idx_to_sentence(decoder_output[i], de_idx_token_dict)\n",
        "                translated_sentence = \" \".join(translated)\n",
        "                all_translated.append(translated_sentence)\n",
        "                all_ground_truth.append(de_groud_truth)\n",
        "                blue_results = bleu.compute(\n",
        "                    predictions=[\" \".join(translated)], references=[de_groud_truth], tokenizer=tokenizer_fn\n",
        "                )\n",
        "                print(translated_sentence)\n",
        "                print(de_groud_truth)\n",
        "                print(blue_results)\n",
        "                f.write(translated_sentence + \"\\n\")\n",
        "                f.write(de_groud_truth + \"\\n\")\n",
        "                f.write(str(blue_results) + \"\\n\")\n",
        "                f.write(\"=======================\" +  \"\\n\")\n",
        "\n",
        "final_bleu = bleu.compute(predictions=all_translated, references=all_ground_truth, tokenizer=tokenizer_fn)\n",
        "print(final_bleu)"
      ]
    }
  ],
  "metadata": {
    "colab": {
      "provenance": []
    },
    "kernelspec": {
      "display_name": "khoihd",
      "language": "python",
      "name": "python3"
    },
    "language_info": {
      "codemirror_mode": {
        "name": "ipython",
        "version": 3
      },
      "file_extension": ".py",
      "mimetype": "text/x-python",
      "name": "python",
      "nbconvert_exporter": "python",
      "pygments_lexer": "ipython3",
      "version": "3.11.7"
    }
  },
  "nbformat": 4,
  "nbformat_minor": 5
}
