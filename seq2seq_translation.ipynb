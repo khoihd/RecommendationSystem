{
 "cells": [
  {
   "cell_type": "code",
   "execution_count": null,
   "id": "54160787",
   "metadata": {},
   "outputs": [],
   "source": [
    "import datasets\n",
    "import spacy\n",
    "from collections import Counter\n",
    "import torch.nn as nn"
   ]
  },
  {
   "cell_type": "code",
   "execution_count": null,
   "id": "e12d2cbd",
   "metadata": {},
   "outputs": [],
   "source": [
    "# Read the dataset using dataset.load_dataset()\n",
    "dataset = datasets.load_dataset(\"data/Multi30k_HuggingFace\")\n",
    "train_set, val_set, test_set = dataset['train'], dataset['validation'], dataset['test']\n",
    "train_set[0]"
   ]
  },
  {
   "cell_type": "code",
   "execution_count": null,
   "id": "f3472c90",
   "metadata": {},
   "outputs": [],
   "source": [
    "# Use tokenizer from spacy\n",
    "en_nlp = spacy.load(\"en_core_web_sm\")\n",
    "de_nlp = spacy.load(\"de_core_news_sm\")"
   ]
  },
  {
   "cell_type": "code",
   "execution_count": null,
   "id": "d1c2e6dd",
   "metadata": {},
   "outputs": [],
   "source": [
    "def tokenize_example(example, en_nlp, de_nlp, sos_token, eos_token, is_lower):\n",
    "    en_tokens = [token.text.lower() if is_lower else token.text for token in en_nlp.tokenizer(example['en'])]\n",
    "    de_tokens = [token.text.lower() if is_lower else token.text for token in de_nlp.tokenizer(example['de'])]\n",
    "\n",
    "    return {'en_tokens': [sos_token] + en_tokens + [eos_token], # input only needs eos token\n",
    "            'de_tokens': [sos_token] + de_tokens + [eos_token] # output needs both sos and eos tokens\n",
    "            }\n"
   ]
  },
  {
   "cell_type": "code",
   "execution_count": 11,
   "id": "9339579a",
   "metadata": {},
   "outputs": [
    {
     "data": {
      "application/vnd.jupyter.widget-view+json": {
       "model_id": "fd5998398e344442a3664a6f7879983e",
       "version_major": 2,
       "version_minor": 0
      },
      "text/plain": [
       "Map:   0%|          | 0/1000 [00:00<?, ? examples/s]"
      ]
     },
     "metadata": {},
     "output_type": "display_data"
    }
   ],
   "source": [
    "unk_token = '<unk>'\n",
    "pad_token = '<pad>'\n",
    "sos_token = '<sos>'\n",
    "eos_token = '<eos>'\n",
    "is_lower = True\n",
    "fn_kwargs = {\n",
    "    'en_nlp': en_nlp,\n",
    "    'de_nlp': de_nlp,\n",
    "    'sos_token': sos_token,\n",
    "    'eos_token': eos_token,\n",
    "    'is_lower': is_lower\n",
    "}\n",
    "train_set = train_set.map(tokenize_example, fn_kwargs=fn_kwargs)\n",
    "train_set = val_set.map(tokenize_example, fn_kwargs=fn_kwargs)\n",
    "train_set = test_set.map(tokenize_example, fn_kwargs=fn_kwargs)"
   ]
  },
  {
   "cell_type": "code",
   "execution_count": 7,
   "id": "ea63aed1",
   "metadata": {},
   "outputs": [
    {
     "name": "stdout",
     "output_type": "stream",
     "text": [
      "A man in an orange hat starring at something.\n",
      "['<sos>', 'a', 'man', 'in', 'an', 'orange', 'hat', 'starring', 'at', 'something', '.', '<eos>']\n"
     ]
    }
   ],
   "source": [
    "print(train_set[0]['en'])\n",
    "print(train_set[0]['en_tokens'])"
   ]
  },
  {
   "cell_type": "code",
   "execution_count": 51,
   "id": "1d346a52",
   "metadata": {},
   "outputs": [],
   "source": [
    "vocab_min_freq = 2\n",
    "special_tokens = [unk_token, pad_token, sos_token, eos_token]\n",
    "en_token_dict = Counter()\n",
    "de_token_dict = Counter()\n",
    "for sentence in train_set:\n",
    "    en_token_dict.update(sentence['en_tokens'])\n",
    "    de_token_dict.update(sentence['de_tokens'])\n",
    "\n",
    "en_token_dict = {k: v for (k, v) in en_token_dict.items() if v > vocab_min_freq}\n",
    "de_token_dict = {k: v for (k, v) in de_token_dict.items() if v > vocab_min_freq}\n",
    "\n",
    "en_vocab = special_tokens + list(en_token_dict)\n",
    "de_vocab = special_tokens + list(de_token_dict)"
   ]
  },
  {
   "cell_type": "code",
   "execution_count": 52,
   "id": "65bdc50f",
   "metadata": {},
   "outputs": [],
   "source": [
    "def lookup_tokenids(example, en_vocab, de_vocab):\n",
    "    en_ids = []\n",
    "    de_ids = []\n",
    "    for w in example['en_tokens']:\n",
    "        en_idx = en_vocab.index(w) if w in en_vocab else 0\n",
    "        en_ids.append(en_idx)\n",
    "        \n",
    "    for w in example['de_tokens']:\n",
    "        de_idx = de_vocab.index(w) if w in de_vocab else 0\n",
    "        de_ids.append(de_idx)\n",
    "    \n",
    "    return {'en_ids': en_ids,\n",
    "            'de_ids': de_ids}"
   ]
  },
  {
   "cell_type": "code",
   "execution_count": 53,
   "id": "bf276f1d",
   "metadata": {},
   "outputs": [
    {
     "data": {
      "application/vnd.jupyter.widget-view+json": {
       "model_id": "dd8e30e6d91840d5a98dca34d73d5546",
       "version_major": 2,
       "version_minor": 0
      },
      "text/plain": [
       "Map:   0%|          | 0/1000 [00:00<?, ? examples/s]"
      ]
     },
     "metadata": {},
     "output_type": "display_data"
    }
   ],
   "source": [
    "train_set = train_set.map(lookup_tokenids, fn_kwargs={'en_vocab': en_vocab, 'de_vocab': de_vocab})"
   ]
  },
  {
   "cell_type": "code",
   "execution_count": null,
   "id": "6d127bf9",
   "metadata": {},
   "outputs": [],
   "source": [
    "class Encoder(nn.Module):\n",
    "    def __init__(self, input_dim, embedding_dim, rnn_hidden_dim, rnn_num_layers):\n",
    "        super().__init__()\n",
    "        # 1 layer Embedding\n",
    "        # 2 layers GRU\n",
    "        # the latent space is the same as the hidden space of the last layer of the GRU\n",
    "        self.embedding = nn.Embedding(input_dim, embedding_dim)\n",
    "        self.encoder = nn.GRU(embedding_dim, rnn_hidden_dim, num_layers=rnn_num_layers, batch_first=True, bias=True)\n",
    "    \n",
    "    def forward(self, x):\n",
    "        x = self.embedding(x)\n",
    "        # hidden state at the last layer for every word in the sequence:\n",
    "        #       batch, sequence, hidden_dim\n",
    "        # final hidden state at every layer\n",
    "        #       layer, batch, hidden_dim\n",
    "        x = self.embedding(x)\n",
    "        state_sequence, state_layer = self.encoder(x)\n",
    "        return state_sequence, state_layer"
   ]
  },
  {
   "cell_type": "code",
   "execution_count": null,
   "id": "b776f62d",
   "metadata": {},
   "outputs": [],
   "source": [
    "class Decoder(nn.Module):\n",
    "    def __init__(self, output_dim, embedding_dim, rnn_hidden_dim):\n",
    "        super().__init__()\n",
    "        self.embedding = nn.Embedding(embedding_dim, output_dim)\n",
    "        self.decoder = nn.GRU(rnn_hidden_dim, embedding_dim)\n",
    "    \n",
    "    def forward(self, x):\n",
    "        x = self.embedding(x)"
   ]
  },
  {
   "cell_type": "code",
   "execution_count": null,
   "id": "baa3a507",
   "metadata": {},
   "outputs": [],
   "source": [
    "class Seq2Seq(nn.Module):\n",
    "    def __init__(self):\n",
    "        super().__init__()\n",
    "        self.decoder = Decoder()\n",
    "        \n",
    "    \n",
    "    def forward(self, x):\n"
   ]
  }
 ],
 "metadata": {
  "kernelspec": {
   "display_name": "khoihd",
   "language": "python",
   "name": "python3"
  },
  "language_info": {
   "codemirror_mode": {
    "name": "ipython",
    "version": 3
   },
   "file_extension": ".py",
   "mimetype": "text/x-python",
   "name": "python",
   "nbconvert_exporter": "python",
   "pygments_lexer": "ipython3",
   "version": "3.11.7"
  }
 },
 "nbformat": 4,
 "nbformat_minor": 5
}
