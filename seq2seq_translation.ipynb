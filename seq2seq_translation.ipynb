{
  "cells": [
    {
      "cell_type": "code",
      "execution_count": 1,
      "id": "54160787",
      "metadata": {
        "id": "54160787"
      },
      "outputs": [],
      "source": [
        "import datasets\n",
        "import spacy\n",
        "import random\n",
        "import numpy as np\n",
        "import torch\n",
        "import torch.nn as nn\n",
        "import torch.nn.utils.rnn as rnn\n",
        "import torch.nn.functional as F\n",
        "import torch.optim as optim\n",
        "from datetime import datetime\n",
        "from collections import Counter\n",
        "from torch.utils.data import DataLoader"
      ]
    },
    {
      "cell_type": "code",
      "execution_count": 2,
      "id": "47098d92",
      "metadata": {
        "id": "47098d92"
      },
      "outputs": [],
      "source": [
        "# Commands used for Google colab\n",
        "google_colab = False\n",
        "if google_colab:\n",
        "  !mkdir -p data/Multi30k_HuggingFace\n",
        "  !pip install -U datasets\n",
        "  !python -m spacy download en_core_web_sm\n",
        "  !python -m spacy download de_core_news_sm"
      ]
    },
    {
      "cell_type": "code",
      "execution_count": 3,
      "id": "9ef28dfc",
      "metadata": {},
      "outputs": [],
      "source": [
        "# Set random seeds\n",
        "def setseed(seed):\n",
        "    \"\"\"Set all seeds and deterministic CuDNN behavior\"\"\"\n",
        "    # Python random module\n",
        "    random.seed(seed)\n",
        "    \n",
        "    # NumPy\n",
        "    np.random.seed(seed)\n",
        "    \n",
        "    # PyTorch (CPU and all GPUs)\n",
        "    torch.manual_seed(seed)\n",
        "    torch.cuda.manual_seed_all(seed)\n",
        "    \n",
        "    # CuDNN configurations (critical for reproducibility)\n",
        "    torch.backends.cudnn.deterministic = True\n",
        "    torch.backends.cudnn.benchmark = False\n",
        "\n",
        "setseed(1711)"
      ]
    },
    {
      "cell_type": "code",
      "execution_count": 4,
      "id": "2e5fdec0",
      "metadata": {
        "id": "2e5fdec0"
      },
      "outputs": [
        {
          "name": "stdout",
          "output_type": "stream",
          "text": [
            "MPS device available: mps\n"
          ]
        }
      ],
      "source": [
        "device = torch.device('cpu')\n",
        "if torch.backends.mps.is_available() and torch.backends.mps.is_built():\n",
        "    device = torch.device(\"mps\")\n",
        "    print(f\"MPS device available: {device}\")\n",
        "elif torch.cuda.is_available():\n",
        "    device = torch.device('cuda')\n",
        "    print(f\"CUDA device available: {device}\")"
      ]
    },
    {
      "cell_type": "code",
      "execution_count": 5,
      "id": "e12d2cbd",
      "metadata": {
        "id": "e12d2cbd"
      },
      "outputs": [
        {
          "data": {
            "text/plain": [
              "{'en': 'Two young, White males are outside near many bushes.',\n",
              " 'de': 'Zwei junge weiße Männer sind im Freien in der Nähe vieler Büsche.'}"
            ]
          },
          "execution_count": 5,
          "metadata": {},
          "output_type": "execute_result"
        }
      ],
      "source": [
        "# Read the dataset using dataset.load_dataset()\n",
        "dataset = datasets.load_dataset(\"data/Multi30k_HuggingFace\")\n",
        "train_set, val_set, test_set = dataset['train'], dataset['validation'], dataset['test']\n",
        "train_set[0]"
      ]
    },
    {
      "cell_type": "code",
      "execution_count": 6,
      "id": "f3472c90",
      "metadata": {
        "id": "f3472c90"
      },
      "outputs": [],
      "source": [
        "# Use tokenizer from spacy\n",
        "en_nlp = spacy.load(\"en_core_web_sm\")\n",
        "de_nlp = spacy.load(\"de_core_news_sm\")"
      ]
    },
    {
      "cell_type": "code",
      "execution_count": 7,
      "id": "ff4aa5d7",
      "metadata": {
        "id": "ff4aa5d7"
      },
      "outputs": [],
      "source": [
        "# Build the token frequency dict, ignore tokens with low frequency\n",
        "en_token_dict = Counter()\n",
        "de_token_dict = Counter()\n",
        "unk, pad, sos, eos = '<unk>', '<pad>', '<sos>', '<eos>'\n",
        "special_tokens = [unk, pad, sos, eos]\n",
        "min_freq = 2\n",
        "\n",
        "for example in train_set:\n",
        "    en_tokens = [token.text.lower() for token in en_nlp.tokenizer(example['en'])]\n",
        "    de_tokens = [token.text.lower() for token in de_nlp.tokenizer(example['de'])]\n",
        "    en_token_dict.update(en_tokens)\n",
        "    de_token_dict.update(de_tokens)\n",
        "\n",
        "# No need to keep track of the frequency\n",
        "en_token_dict = [k for (k, v) in en_token_dict.items() if v >= min_freq]\n",
        "en_token_dict = special_tokens + en_token_dict\n",
        "en_token_dict = {value: index for (index, value) in enumerate(en_token_dict)}\n",
        "\n",
        "de_token_dict = [k for (k, v) in de_token_dict.items() if v >= min_freq]\n",
        "de_token_dict = special_tokens + de_token_dict\n",
        "de_token_dict = {value: index for (index, value) in enumerate(de_token_dict)}"
      ]
    },
    {
      "cell_type": "code",
      "execution_count": 8,
      "id": "24256f0e",
      "metadata": {
        "id": "24256f0e"
      },
      "outputs": [],
      "source": [
        "for special in special_tokens:\n",
        "    if not en_token_dict[special] == de_token_dict[special]:\n",
        "        print(f\"Token {special} mismatch between EN and DE dictionary\")"
      ]
    },
    {
      "cell_type": "code",
      "execution_count": 9,
      "id": "d1c2e6dd",
      "metadata": {
        "id": "d1c2e6dd"
      },
      "outputs": [],
      "source": [
        "# Create token list and token IDs for each sentence in the dataset\n",
        "def tokenize_example(example, en_nlp, de_nlp, sos, eos):\n",
        "    en_tokens, de_tokens = [], []\n",
        "    en_ids, de_ids = [], []\n",
        "    for token in en_nlp.tokenizer(example['en']):\n",
        "        token = token.text.lower()\n",
        "        if token not in en_token_dict:\n",
        "            token = unk\n",
        "\n",
        "        en_tokens.append(token)\n",
        "        en_ids.append(en_token_dict[token])\n",
        "\n",
        "    # Just add both sos and eos\n",
        "    # sos and eos tokens will be processed later in the collate_fn when merging data into batch\n",
        "    en_tokens = [sos] + en_tokens + [eos]\n",
        "    en_ids = [en_token_dict[sos]] + en_ids + [en_token_dict[eos]]\n",
        "\n",
        "    for token in de_nlp.tokenizer(example['de']):\n",
        "        token = token.text.lower()\n",
        "        if token not in de_token_dict:\n",
        "            token = unk\n",
        "\n",
        "        de_tokens.append(token)\n",
        "        de_ids.append(de_token_dict[token])\n",
        "\n",
        "    de_tokens = [sos] + de_tokens + [eos]\n",
        "    de_ids = [de_token_dict[sos]] + de_ids + [de_token_dict[eos]]\n",
        "\n",
        "    example['en_tokens'] = en_tokens\n",
        "    example['en_ids'] = en_ids\n",
        "    example['de_tokens'] = de_tokens\n",
        "    example['de_ids'] = de_ids\n",
        "\n",
        "    return example\n"
      ]
    },
    {
      "cell_type": "code",
      "execution_count": 10,
      "id": "9339579a",
      "metadata": {
        "id": "9339579a"
      },
      "outputs": [],
      "source": [
        "fn_kwargs = {\n",
        "    'en_nlp': en_nlp,\n",
        "    'de_nlp': de_nlp,\n",
        "    'sos': sos,\n",
        "    'eos': eos,\n",
        "}\n",
        "train_set = train_set.map(tokenize_example, fn_kwargs=fn_kwargs)\n",
        "val_set = val_set.map(tokenize_example, fn_kwargs=fn_kwargs)\n",
        "test_set = test_set.map(tokenize_example, fn_kwargs=fn_kwargs)"
      ]
    },
    {
      "cell_type": "code",
      "execution_count": 11,
      "id": "ea63aed1",
      "metadata": {
        "id": "ea63aed1"
      },
      "outputs": [
        {
          "name": "stdout",
          "output_type": "stream",
          "text": [
            "Two young, White males are outside near many bushes.\n",
            "['<sos>', 'two', 'young', ',', 'white', 'males', 'are', 'outside', 'near', 'many', 'bushes', '.', '<eos>']\n",
            "[2, 4, 5, 6, 7, 8, 9, 10, 11, 12, 13, 14, 3]\n",
            "Zwei junge weiße Männer sind im Freien in der Nähe vieler Büsche.\n",
            "['<sos>', 'zwei', 'junge', 'weiße', 'männer', 'sind', 'im', 'freien', 'in', 'der', 'nähe', 'vieler', 'büsche', '.', '<eos>']\n",
            "[2, 4, 5, 6, 7, 8, 9, 10, 11, 12, 13, 14, 15, 16, 3]\n"
          ]
        }
      ],
      "source": [
        "print(train_set[0]['en'])\n",
        "print(train_set[0]['en_tokens'])\n",
        "print(train_set[0]['en_ids'])\n",
        "print(train_set[0]['de'])\n",
        "print(train_set[0]['de_tokens'])\n",
        "print(train_set[0]['de_ids'])"
      ]
    },
    {
      "cell_type": "code",
      "execution_count": 12,
      "id": "e36998e4",
      "metadata": {
        "id": "e36998e4"
      },
      "outputs": [],
      "source": [
        "# Write a collate_fn to pad sequences with variable length into a batch of tensors for Dataloader\n",
        "def get_collate_fn(pad_index, device):\n",
        "    def collate_fn(batch):\n",
        "        # Encoder input: <sequence> + <eos>\n",
        "        encoder_input = [torch.tensor(sequence['en_ids'][1:]) for sequence in batch]\n",
        "        encoder_input = rnn.pad_sequence(encoder_input, padding_value=pad_index, batch_first=True)\n",
        "\n",
        "        # Decode input: <sos> + <sequence>\n",
        "        decoder_input = [torch.tensor(sequence['de_ids'][:-1]) for sequence in batch]\n",
        "        decoder_input = rnn.pad_sequence(decoder_input, padding_value=pad_index, batch_first=True)\n",
        "\n",
        "        # Decode output: <sequence> + <eos>\n",
        "        decoder_output = [torch.tensor(sequence['de_ids'][1:]) for sequence in batch]\n",
        "        decoder_output = rnn.pad_sequence(decoder_output, padding_value=pad_index, batch_first=True)\n",
        "\n",
        "        return encoder_input, decoder_input, decoder_output\n",
        "\n",
        "    return collate_fn"
      ]
    },
    {
      "cell_type": "code",
      "execution_count": 13,
      "id": "eb06c009",
      "metadata": {
        "id": "eb06c009"
      },
      "outputs": [],
      "source": [
        "pad_idx = en_token_dict[pad]\n",
        "collate_fn = get_collate_fn(pad_idx, device)\n",
        "batch_size = 128\n",
        "train_dl = DataLoader(train_set, collate_fn=collate_fn, batch_size=batch_size, shuffle=True)\n",
        "val_dl = DataLoader(val_set, collate_fn=collate_fn, batch_size=batch_size, shuffle=True)"
      ]
    },
    {
      "cell_type": "code",
      "execution_count": 28,
      "id": "6d127bf9",
      "metadata": {
        "id": "6d127bf9"
      },
      "outputs": [],
      "source": [
        "class Encoder(nn.Module):\n",
        "    def __init__(self, input_dim, embedding_dim, rnn_hidden_dim, rnn_num_layers):\n",
        "        super().__init__()\n",
        "        # 1 layer Embedding\n",
        "        # 2 layers GRU\n",
        "        # the latent space is the same as the hidden space of the last layer of the GRU\n",
        "        self.embedding = nn.Embedding(input_dim, embedding_dim)\n",
        "        self.encoder = nn.GRU(embedding_dim, rnn_hidden_dim, num_layers=rnn_num_layers, batch_first=True, bias=True)\n",
        "\n",
        "    def forward(self, x):\n",
        "        # hidden state at the last layer for every word in the sequence:\n",
        "        #       batch, sequence, hidden_dim\n",
        "        # final hidden state at every layer\n",
        "        #       layer, batch, hidden_dim\n",
        "        x = self.embedding(x)\n",
        "        _, state_layer = self.encoder(x)\n",
        "        return state_layer"
      ]
    },
    {
      "cell_type": "code",
      "execution_count": 29,
      "id": "b776f62d",
      "metadata": {
        "id": "b776f62d"
      },
      "outputs": [],
      "source": [
        "class Decoder(nn.Module):\n",
        "    def __init__(self, output_dim, embedding_dim, rnn_hidden_dim, rnn_num_layers):\n",
        "        super().__init__()\n",
        "        self.embedding = nn.Embedding(output_dim, embedding_dim)\n",
        "        self.decoder = nn.GRU(embedding_dim, rnn_hidden_dim, num_layers=rnn_num_layers, batch_first=True, bias=True)\n",
        "        self.fc = nn.Linear(rnn_hidden_dim, output_dim)\n",
        "\n",
        "    def forward(self, x, latent):\n",
        "        x = self.embedding(x)\n",
        "        # hidden state at the last layer for every word in the sequence:\n",
        "        #       batch, sequence, hidden_dim\n",
        "        # final hidden state at every layer\n",
        "        #       layer, batch, hidden_dim\n",
        "        state_sequence, state_layer = self.decoder(x, latent)\n",
        "        return self.fc(state_sequence), state_sequence, state_layer"
      ]
    },
    {
      "cell_type": "code",
      "execution_count": 30,
      "id": "baa3a507",
      "metadata": {
        "id": "baa3a507"
      },
      "outputs": [],
      "source": [
        "class Seq2Seq(nn.Module):\n",
        "    def __init__(self, encoder, decoder):\n",
        "        super().__init__()\n",
        "        self.encoding = encoder\n",
        "        self.decoding = decoder\n",
        "\n",
        "    def forward(self, encoder_input, decoder_input):\n",
        "        z = self.encoding(encoder_input)\n",
        "        decoder_output, decoder_state_sequence, decoder_state_layer = self.decoding(decoder_input, z)\n",
        "        return decoder_output, decoder_state_sequence, decoder_state_layer\n"
      ]
    },
    {
      "cell_type": "code",
      "execution_count": 31,
      "id": "fc27fe3b",
      "metadata": {
        "id": "fc27fe3b"
      },
      "outputs": [],
      "source": [
        "input_dim = len(en_token_dict)\n",
        "output_dim = len(de_token_dict)\n",
        "encoder_embedding_dim = 256\n",
        "decoder_embedding_dim = 256\n",
        "rnn_hidden_dim = 512\n",
        "rnn_num_layers = 2\n",
        "\n",
        "encoder = Encoder(input_dim, encoder_embedding_dim, rnn_hidden_dim, rnn_num_layers)\n",
        "decoder = Decoder(output_dim, decoder_embedding_dim, rnn_hidden_dim, rnn_num_layers)\n",
        "seq2seq = Seq2Seq(encoder, decoder).to(device)\n",
        "optimizer = optim.Adam(seq2seq.parameters(), lr=1e-3)\n",
        "epochs = 20\n",
        "\n",
        "def train_fn(model=seq2seq, optimizer=optimizer, loss_fn=F.cross_entropy, epochs=epochs, dataloader=train_dl):\n",
        "    total_loss = 0\n",
        "    for epoch in range(epochs):\n",
        "        epoch_loss = 0\n",
        "        epoch_start = datetime.now()\n",
        "        next_chunk = 0\n",
        "        for idx, dl in enumerate(train_dl):\n",
        "            batch_start = datetime.now()\n",
        "            encoder_input, decoder_input, decoder_output = dl\n",
        "            encoder_input = encoder_input.to(device)\n",
        "            decoder_input = decoder_input.to(device)\n",
        "            decoder_output = decoder_output.to(device)\n",
        "            output, _, _ = model(encoder_input, decoder_input)\n",
        "            loss = loss_fn(output.permute(0, 2, 1), decoder_output, ignore_index=pad_idx, reduction='mean')\n",
        "\n",
        "            optimizer.zero_grad()\n",
        "            loss.backward()\n",
        "            optimizer.step()\n",
        "\n",
        "            epoch_loss += loss.item()\n",
        "            batch_runtime = datetime.now() - batch_start\n",
        "            if idx == next_chunk:\n",
        "                print(f\"Chunk={idx}: loss={loss.item():.2f}, batch runtime={batch_runtime.total_seconds()*1000:.2f} ms\")\n",
        "                next_chunk += len(train_dl) // 10\n",
        "\n",
        "        total_loss += epoch_loss\n",
        "        epoch_runtime = datetime.now() - epoch_start\n",
        "        print(f\"Epoch={epoch}: Loss={epoch_loss / len(train_dl):.2f}, epoch runtime={epoch_runtime.seconds:.2f} seconds\")\n",
        "\n",
        "    return total_loss / len(train_dl)"
      ]
    },
    {
      "cell_type": "code",
      "execution_count": 32,
      "id": "c3a5974b",
      "metadata": {
        "id": "c3a5974b"
      },
      "outputs": [
        {
          "name": "stdout",
          "output_type": "stream",
          "text": [
            "Chunk=0: loss=8.97, batch runtime=560.43 ms\n",
            "Chunk=22: loss=5.17, batch runtime=359.01 ms\n",
            "Chunk=44: loss=4.83, batch runtime=420.48 ms\n",
            "Chunk=66: loss=4.64, batch runtime=345.18 ms\n",
            "Chunk=88: loss=4.25, batch runtime=482.59 ms\n",
            "Chunk=110: loss=4.15, batch runtime=331.48 ms\n",
            "Chunk=132: loss=4.10, batch runtime=315.09 ms\n",
            "Chunk=154: loss=3.84, batch runtime=358.82 ms\n",
            "Chunk=176: loss=3.99, batch runtime=481.32 ms\n",
            "Chunk=198: loss=3.78, batch runtime=341.05 ms\n"
          ]
        },
        {
          "ename": "KeyboardInterrupt",
          "evalue": "",
          "output_type": "error",
          "traceback": [
            "\u001b[0;31m---------------------------------------------------------------------------\u001b[0m",
            "\u001b[0;31mKeyboardInterrupt\u001b[0m                         Traceback (most recent call last)",
            "Cell \u001b[0;32mIn[32], line 1\u001b[0m\n\u001b[0;32m----> 1\u001b[0m train_err \u001b[38;5;241m=\u001b[39m train_fn(seq2seq)\n",
            "Cell \u001b[0;32mIn[31], line 30\u001b[0m, in \u001b[0;36mtrain_fn\u001b[0;34m(model, optimizer, loss_fn, epochs, dataloader)\u001b[0m\n\u001b[1;32m     27\u001b[0m loss \u001b[38;5;241m=\u001b[39m loss_fn(output\u001b[38;5;241m.\u001b[39mpermute(\u001b[38;5;241m0\u001b[39m, \u001b[38;5;241m2\u001b[39m, \u001b[38;5;241m1\u001b[39m), decoder_output, ignore_index\u001b[38;5;241m=\u001b[39mpad_idx, reduction\u001b[38;5;241m=\u001b[39m\u001b[38;5;124m'\u001b[39m\u001b[38;5;124mmean\u001b[39m\u001b[38;5;124m'\u001b[39m)\n\u001b[1;32m     29\u001b[0m optimizer\u001b[38;5;241m.\u001b[39mzero_grad()\n\u001b[0;32m---> 30\u001b[0m loss\u001b[38;5;241m.\u001b[39mbackward()\n\u001b[1;32m     31\u001b[0m optimizer\u001b[38;5;241m.\u001b[39mstep()\n\u001b[1;32m     33\u001b[0m epoch_loss \u001b[38;5;241m+\u001b[39m\u001b[38;5;241m=\u001b[39m loss\u001b[38;5;241m.\u001b[39mitem()\n",
            "File \u001b[0;32m~/miniconda3/envs/khoihd/lib/python3.11/site-packages/torch/_tensor.py:581\u001b[0m, in \u001b[0;36mTensor.backward\u001b[0;34m(self, gradient, retain_graph, create_graph, inputs)\u001b[0m\n\u001b[1;32m    571\u001b[0m \u001b[38;5;28;01mif\u001b[39;00m has_torch_function_unary(\u001b[38;5;28mself\u001b[39m):\n\u001b[1;32m    572\u001b[0m     \u001b[38;5;28;01mreturn\u001b[39;00m handle_torch_function(\n\u001b[1;32m    573\u001b[0m         Tensor\u001b[38;5;241m.\u001b[39mbackward,\n\u001b[1;32m    574\u001b[0m         (\u001b[38;5;28mself\u001b[39m,),\n\u001b[0;32m   (...)\u001b[0m\n\u001b[1;32m    579\u001b[0m         inputs\u001b[38;5;241m=\u001b[39minputs,\n\u001b[1;32m    580\u001b[0m     )\n\u001b[0;32m--> 581\u001b[0m torch\u001b[38;5;241m.\u001b[39mautograd\u001b[38;5;241m.\u001b[39mbackward(\n\u001b[1;32m    582\u001b[0m     \u001b[38;5;28mself\u001b[39m, gradient, retain_graph, create_graph, inputs\u001b[38;5;241m=\u001b[39minputs\n\u001b[1;32m    583\u001b[0m )\n",
            "File \u001b[0;32m~/miniconda3/envs/khoihd/lib/python3.11/site-packages/torch/autograd/__init__.py:347\u001b[0m, in \u001b[0;36mbackward\u001b[0;34m(tensors, grad_tensors, retain_graph, create_graph, grad_variables, inputs)\u001b[0m\n\u001b[1;32m    342\u001b[0m     retain_graph \u001b[38;5;241m=\u001b[39m create_graph\n\u001b[1;32m    344\u001b[0m \u001b[38;5;66;03m# The reason we repeat the same comment below is that\u001b[39;00m\n\u001b[1;32m    345\u001b[0m \u001b[38;5;66;03m# some Python versions print out the first line of a multi-line function\u001b[39;00m\n\u001b[1;32m    346\u001b[0m \u001b[38;5;66;03m# calls in the traceback and some print out the last line\u001b[39;00m\n\u001b[0;32m--> 347\u001b[0m _engine_run_backward(\n\u001b[1;32m    348\u001b[0m     tensors,\n\u001b[1;32m    349\u001b[0m     grad_tensors_,\n\u001b[1;32m    350\u001b[0m     retain_graph,\n\u001b[1;32m    351\u001b[0m     create_graph,\n\u001b[1;32m    352\u001b[0m     inputs,\n\u001b[1;32m    353\u001b[0m     allow_unreachable\u001b[38;5;241m=\u001b[39m\u001b[38;5;28;01mTrue\u001b[39;00m,\n\u001b[1;32m    354\u001b[0m     accumulate_grad\u001b[38;5;241m=\u001b[39m\u001b[38;5;28;01mTrue\u001b[39;00m,\n\u001b[1;32m    355\u001b[0m )\n",
            "File \u001b[0;32m~/miniconda3/envs/khoihd/lib/python3.11/site-packages/torch/autograd/graph.py:825\u001b[0m, in \u001b[0;36m_engine_run_backward\u001b[0;34m(t_outputs, *args, **kwargs)\u001b[0m\n\u001b[1;32m    823\u001b[0m     unregister_hooks \u001b[38;5;241m=\u001b[39m _register_logging_hooks_on_whole_graph(t_outputs)\n\u001b[1;32m    824\u001b[0m \u001b[38;5;28;01mtry\u001b[39;00m:\n\u001b[0;32m--> 825\u001b[0m     \u001b[38;5;28;01mreturn\u001b[39;00m Variable\u001b[38;5;241m.\u001b[39m_execution_engine\u001b[38;5;241m.\u001b[39mrun_backward(  \u001b[38;5;66;03m# Calls into the C++ engine to run the backward pass\u001b[39;00m\n\u001b[1;32m    826\u001b[0m         t_outputs, \u001b[38;5;241m*\u001b[39margs, \u001b[38;5;241m*\u001b[39m\u001b[38;5;241m*\u001b[39mkwargs\n\u001b[1;32m    827\u001b[0m     )  \u001b[38;5;66;03m# Calls into the C++ engine to run the backward pass\u001b[39;00m\n\u001b[1;32m    828\u001b[0m \u001b[38;5;28;01mfinally\u001b[39;00m:\n\u001b[1;32m    829\u001b[0m     \u001b[38;5;28;01mif\u001b[39;00m attach_logging_hooks:\n",
            "\u001b[0;31mKeyboardInterrupt\u001b[0m: "
          ]
        }
      ],
      "source": [
        "train_err = train_fn(seq2seq)"
      ]
    },
    {
      "cell_type": "code",
      "execution_count": null,
      "id": "9d4487b1",
      "metadata": {
        "id": "9d4487b1"
      },
      "outputs": [],
      "source": [
        "# Save the whole model\n",
        "MODEL_PATH = \"seq2seq.pt\"\n",
        "torch.save(seq2seq.state_dict(), MODEL_PATH)"
      ]
    },
    {
      "cell_type": "code",
      "execution_count": null,
      "id": "b7b03c5c",
      "metadata": {
        "id": "b7b03c5c"
      },
      "outputs": [],
      "source": [
        "# Load the Seq2Seq model by first initializing the architecture of Encoder and Decoder\n",
        "GOOGLE_COLAB_MODEL_PATH = \"seq2seq_googlecolab.pt\"\n",
        "reload_encoder = Encoder(input_dim, encoder_embedding_dim, rnn_hidden_dim, rnn_num_layers)\n",
        "reload_decoder = Decoder(output_dim, decoder_embedding_dim, rnn_hidden_dim, rnn_num_layers)\n",
        "reload_seq2seq = Seq2Seq(reload_encoder, reload_decoder).to(device)\n",
        "reload_seq2seq.load_state_dict(torch.load(GOOGLE_COLAB_MODEL_PATH, weights_only=False, map_location=torch.device('mps')))"
      ]
    },
    {
      "cell_type": "code",
      "execution_count": null,
      "id": "16ee7c76",
      "metadata": {},
      "outputs": [],
      "source": [
        "def translate(model, sequence, en_nlp, en_token_dict, device, max_length=100):\n",
        "    model.eval()\n",
        "    output = []\n",
        "    \n",
        "    input_tokens = []\n",
        "    for token in en_nlp.tokenizer(sequence):\n",
        "        token = token.text.lower()\n",
        "        if token not in en_token_dict:\n",
        "            token = unk\n",
        "\n",
        "        input_tokens.append(en_token_dict[token])\n",
        "    \n",
        "    input_tokens = torch.tensor([input_tokens]).to(device)\n",
        "    \n",
        "    with torch.no_grad():\n",
        "        state = model.encoder(input_tokens)\n",
        "        word = torch.tensor([[en_token_dict[sos]]]).to(device)\n",
        "        print(input_tokens.size())\n",
        "        print(word.size())\n",
        "        print(state.size())\n",
        "        for length in range(max_length):\n",
        "            word, state = model.decoder(word, state)\n",
        "            word_token = de_token_dict[torch.argmax(word, dim=-1)]\n",
        "            output.append(word_token)\n",
        "            if word_token == eos:\n",
        "                break\n",
        "    \n",
        "    return output"
      ]
    },
    {
      "cell_type": "code",
      "execution_count": null,
      "id": "eb3ce3ec",
      "metadata": {},
      "outputs": [],
      "source": [
        "test_sentence = \"Hello word\"\n",
        "translated = translate(reload_seq2seq, test_sentence, en_nlp, en_token_dict, device)"
      ]
    },
    {
      "cell_type": "code",
      "execution_count": null,
      "id": "149a784b",
      "metadata": {},
      "outputs": [],
      "source": [
        "print(reload_seq2seq.encoder)"
      ]
    },
    {
      "cell_type": "code",
      "execution_count": null,
      "id": "b8b5922f",
      "metadata": {},
      "outputs": [],
      "source": [
        "val_dl = DataLoader(val_set, collate_fn=collate_fn, batch_size=batch_size, shuffle=True)\n",
        "max_length = 100\n",
        "# def eval(model, val_dl):\n",
        "model = reload_seq2seq\n",
        "model.eval()\n",
        "with torch.no_grad():\n",
        "    for idx, dl in enumerate(val_dl):\n",
        "        encoder_input, _, decoder_output = dl\n",
        "        encoder_input = encoder_input.to(device)\n",
        "        # decoder_input = decoder_input.to(device)\n",
        "        decoder_output = decoder_output.to(device)\n",
        "\n",
        "        # TODO: Instead of using decoder_input, how to the input from the Decoder part\n",
        "        predicted_output = translate(model, encoder_input, max_length)\n",
        "        predicted_output = predicted_output.permute(0, 1, 2)\n",
        "        predicted_output_sentence = predicted_output.argmax(dim=-1)\n",
        "        print(decoder_output.size())\n",
        "        print(predicted_output.size())\n",
        "        print(predicted_output_sentence.size())\n",
        "        break"
      ]
    },
    {
      "cell_type": "code",
      "execution_count": null,
      "id": "87a38727",
      "metadata": {},
      "outputs": [],
      "source": [
        "for dl in train_dl:\n",
        "    encoder_input, decoder_input, decoder_output = dl\n",
        "    print(encoder_input.size())\n",
        "    break"
      ]
    },
    {
      "cell_type": "code",
      "execution_count": null,
      "id": "3d218e86",
      "metadata": {},
      "outputs": [],
      "source": []
    }
  ],
  "metadata": {
    "colab": {
      "provenance": []
    },
    "kernelspec": {
      "display_name": "khoihd",
      "language": "python",
      "name": "python3"
    },
    "language_info": {
      "codemirror_mode": {
        "name": "ipython",
        "version": 3
      },
      "file_extension": ".py",
      "mimetype": "text/x-python",
      "name": "python",
      "nbconvert_exporter": "python",
      "pygments_lexer": "ipython3",
      "version": "3.11.7"
    }
  },
  "nbformat": 4,
  "nbformat_minor": 5
}
