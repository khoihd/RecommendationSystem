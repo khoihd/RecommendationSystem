{
 "cells": [
  {
   "cell_type": "code",
   "execution_count": null,
   "id": "db500f15",
   "metadata": {},
   "outputs": [],
   "source": [
    "import numpy as np\n",
    "import matplotlib.pyplot as plt"
   ]
  },
  {
   "cell_type": "code",
   "execution_count": null,
   "id": "6828312a",
   "metadata": {},
   "outputs": [],
   "source": [
    "N = 10000\n",
    "emb_dim = 14\n",
    "seq_len = 512\n",
    "points = 10*100"
   ]
  },
  {
   "cell_type": "code",
   "execution_count": null,
   "id": "a6ae1d0e",
   "metadata": {},
   "outputs": [],
   "source": [
    "positions = np.linspace(0, seq_len, points)\n",
    "functions = []\n",
    "for i in range(emb_dim):\n",
    "    if i%2 == 0:\n",
    "        functions.append(np.sin(positions / N**(i/emb_dim)))\n",
    "    elif i%2 == 1:\n",
    "        functions.append(np.cos(positions / N**((i-1)/emb_dim)))"
   ]
  },
  {
   "cell_type": "code",
   "execution_count": null,
   "id": "f49b0c54",
   "metadata": {},
   "outputs": [],
   "source": [
    "fig, ax = plt.subplots(emb_dim)\n",
    "for d in range(emb_dim):\n",
    "    ax[d].plot(positions, functions[d])\n",
    "    ax[d].set_axis_off()\n"
   ]
  }
 ],
 "metadata": {
  "kernelspec": {
   "display_name": "khoihd",
   "language": "python",
   "name": "python3"
  },
  "language_info": {
   "codemirror_mode": {
    "name": "ipython",
    "version": 3
   },
   "file_extension": ".py",
   "mimetype": "text/x-python",
   "name": "python",
   "nbconvert_exporter": "python",
   "pygments_lexer": "ipython3",
   "version": "3.11.7"
  }
 },
 "nbformat": 4,
 "nbformat_minor": 5
}
