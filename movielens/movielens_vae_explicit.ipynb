{
 "cells": [
  {
   "cell_type": "code",
   "execution_count": null,
   "id": "63bfe0ec",
   "metadata": {},
   "outputs": [],
   "source": [
    "import pandas as pd\n",
    "import numpy as np\n",
    "import torch\n",
    "import torch.nn as nn\n",
    "import torch.nn.functional as F\n",
    "import torch.optim as optim\n",
    "from torcheval.metrics.functional import multiclass_accuracy\n",
    "from torch.utils.data import TensorDataset, DataLoader, Subset\n",
    "import random"
   ]
  },
  {
   "cell_type": "code",
   "execution_count": null,
   "id": "7b9d56c5",
   "metadata": {},
   "outputs": [],
   "source": [
    "rating_df = pd.read_csv('data/MovieLens/rating.csv')\n",
    "rating_df.head()"
   ]
  },
  {
   "cell_type": "code",
   "execution_count": null,
   "id": "7328f478",
   "metadata": {},
   "outputs": [],
   "source": [
    "# Let's make it multi-class classification\n",
    "rating_df['normalized_rating'] = rating_df.rating\n",
    "rating_values = np.array(list(sorted(set(rating_df.rating))))\n",
    "# num_classes = len(set(rating_df.rating))\n",
    "rating_df['rating_class'] = (rating_df.rating * 2).astype(int)"
   ]
  },
  {
   "cell_type": "code",
   "execution_count": null,
   "id": "404c6f51",
   "metadata": {},
   "outputs": [],
   "source": [
    "set(rating_df.rating_class)"
   ]
  },
  {
   "cell_type": "code",
   "execution_count": null,
   "id": "3db62bfe",
   "metadata": {},
   "outputs": [],
   "source": [
    "subset_ratio = 0.003\n",
    "rows = rating_df.userId - min(rating_df.userId) # convert into index starting at 0\n",
    "cols = rating_df.movieId - min(rating_df.movieId) # convert into index starting at 0\n",
    "user_movie_coo_tensor = torch.sparse_coo_tensor([rows, cols], rating_df.rating_class.to_numpy(), dtype=torch.float)\n",
    "user_movie_dataset = TensorDataset(user_movie_coo_tensor.to_dense())\n",
    "user_movie_dataset_length = len(user_movie_dataset)\n",
    "user_movie_subset_sample_idx = random.sample(range(user_movie_dataset_length), int(user_movie_dataset_length * subset_ratio))\n",
    "user_movie_subset = Subset(user_movie_dataset, user_movie_subset_sample_idx)\n",
    "user_movie_dataloader = DataLoader(user_movie_subset, batch_size=64, shuffle=True)"
   ]
  },
  {
   "cell_type": "code",
   "execution_count": null,
   "id": "113cb5d2",
   "metadata": {},
   "outputs": [],
   "source": [
    "class MovieLensVAE(nn.Module):\n",
    "    def __init__(self, input_dim, num_classes=6, hidden_dim=600, latent_dim=200):\n",
    "        super().__init__()\n",
    "        self.input_dim = input_dim\n",
    "        self.num_classes = num_classes\n",
    "        self.encoder = nn.Sequential(\n",
    "            nn.Linear(input_dim, hidden_dim, bias=True),\n",
    "            nn.BatchNorm1d(hidden_dim),\n",
    "            nn.ReLU()\n",
    "        )\n",
    "        self.mu = nn.Linear(hidden_dim, latent_dim, bias=True)\n",
    "        self.logvar = nn.Linear(hidden_dim, latent_dim, bias=True)\n",
    "        self.decoder = nn.Sequential(\n",
    "            nn.Linear(latent_dim, hidden_dim, bias=True),\n",
    "            nn.BatchNorm1d(hidden_dim),\n",
    "            nn.ReLU(),\n",
    "            nn.Linear(hidden_dim, input_dim * num_classes, bias=True)\n",
    "        )\n",
    "    \n",
    "    def forward(self, x):\n",
    "        latent = self.encoder(x)\n",
    "        mu = self.mu(latent)\n",
    "        logvar = self.logvar(latent)\n",
    "        z = self.reparameterization(mu, logvar)\n",
    "        x_output = self.decoder(z)\n",
    "        logits = x_output.view(-1, self.num_classes, self.input_dim)\n",
    "        return logits, mu, logvar\n",
    "\n",
    "    def reparameterization(self, mu, logvar):\n",
    "        std = torch.exp(logvar/2)\n",
    "        e = torch.randn_like(std)\n",
    "        return mu + std * e"
   ]
  },
  {
   "cell_type": "code",
   "execution_count": null,
   "id": "8dbb4b24",
   "metadata": {},
   "outputs": [],
   "source": [
    "# Minimize cross entropy reconstruction_loss + KL Divergence\n",
    "def loss_func(x, vae_logits, mu, logvar):\n",
    "    # Reconstruction Loss\n",
    "    # input = batch_size x C x movie\n",
    "    # target = batch_size x movie\n",
    "    reconstruction_loss = F.cross_entropy(vae_logits, x.long())\n",
    "    # KL Divergence between Q(z|X) and N(0, 1)\n",
    "    KLD = 0.5 * torch.mean(mu.pow(2) + logvar.exp() - logvar - 1)\n",
    "    return reconstruction_loss + KLD"
   ]
  },
  {
   "cell_type": "code",
   "execution_count": null,
   "id": "00014b95",
   "metadata": {},
   "outputs": [],
   "source": [
    "input_dim = max(cols) + 1\n",
    "num_classes = len(set(rating_df.rating_class)) + 1\n",
    "movielens_var = MovieLensVAE(input_dim, num_classes, hidden_dim=20, latent_dim=5)\n",
    "optimizer = optim.Adam(movielens_var.parameters(), lr=1e-3)\n",
    "epochs = 10\n",
    "\n",
    "cur_mu, cur_logvar = 0, 0\n",
    "for epoch in range(epochs):\n",
    "    loss_err = 0\n",
    "    for i, dl in enumerate(user_movie_dataloader):\n",
    "        x_output, mu, logvar = movielens_var(dl[0])\n",
    "        cur_mu, cur_logvar = mu, logvar\n",
    "        loss = loss_func(dl[0], x_output, mu, logvar)\n",
    "        loss_err += loss.item()\n",
    "\n",
    "        optimizer.zero_grad()\n",
    "        loss.backward()\n",
    "        optimizer.step()\n",
    "    \n",
    "        print(f\"Epoch={epoch}, i={i}: Error={loss_err}\")"
   ]
  },
  {
   "cell_type": "code",
   "execution_count": null,
   "id": "07b5e13d",
   "metadata": {},
   "outputs": [],
   "source": [
    "def predict(model, x):\n",
    "    # Set the model setting to eval() mode\n",
    "    model.eval()\n",
    "    \n",
    "    # Convert x to tensor if needed\n",
    "    if not isinstance(x, torch.Tensor):\n",
    "        x = torch.tensor(x, type=torch.float)\n",
    "    \n",
    "    with torch.no_grad():\n",
    "        logits, _, _ = model(x)\n",
    "        x_output = torch.softmax(logits, dim=-1)\n",
    "        x_output = x_output.view(len(x), -1, num_classes)\n",
    "        x_output = torch.max(x_output, dim=-1)[1]\n",
    "    \n",
    "    return x_output"
   ]
  },
  {
   "cell_type": "code",
   "execution_count": null,
   "id": "4a2476f1",
   "metadata": {},
   "outputs": [],
   "source": [
    "for x in user_movie_dataloader:\n",
    "    predicted_x = predict(movielens_var, x[0])\n",
    "    acc = 0\n",
    "    for batch in range(64):\n",
    "        acc += multiclass_accuracy(x[0][i], predicted_x[i])\n",
    "    print(acc / 64 * 100)\n",
    "    break"
   ]
  }
 ],
 "metadata": {
  "kernelspec": {
   "display_name": "khoihd",
   "language": "python",
   "name": "python3"
  },
  "language_info": {
   "codemirror_mode": {
    "name": "ipython",
    "version": 3
   },
   "file_extension": ".py",
   "mimetype": "text/x-python",
   "name": "python",
   "nbconvert_exporter": "python",
   "pygments_lexer": "ipython3",
   "version": "3.11.7"
  }
 },
 "nbformat": 4,
 "nbformat_minor": 5
}
