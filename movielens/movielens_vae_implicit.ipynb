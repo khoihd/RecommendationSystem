{
 "cells": [
  {
   "cell_type": "code",
   "execution_count": null,
   "id": "eae052b2",
   "metadata": {},
   "outputs": [],
   "source": [
    "# TODO:\n",
    "# 1. Preprocess user-movie ratings:\n",
    "#   All ratings >=4: 1\n",
    "#   All ratings < 4 or not rated: 0\n",
    "\n",
    "# 2. Convert the csv file to sparse matrix (storing non-zero values) only\n",
    "#   - Convert the sparse matrix into numpy and feed them into the VAE\n",
    "\n",
    "\n",
    "# 3. Build the VAE architecture:\n",
    "#   Input layer -> hidden layer -> -latent -> hidden layer -> output layer\n",
    "#       I -> 600 (relu) -> 200 (relu) -> 600 (relu) -> I (Sigmoid)\n",
    "\n",
    "# 4. Loss function:\n",
    "#   P(X|z) binomial, BCE + KLD\n",
    "\n",
    "# 5. Configuration:\n",
    "#   batch_size=500, epochs=200, optimizer=Adam, lr=1e-3"
   ]
  },
  {
   "cell_type": "code",
   "execution_count": null,
   "id": "c92d2bf5",
   "metadata": {},
   "outputs": [],
   "source": [
    "import pandas as pd\n",
    "import numpy as np\n",
    "import torch\n",
    "import torch.nn as nn\n",
    "import torch.nn.functional as F\n",
    "import torch.optim as optim\n",
    "from torch.utils.data import TensorDataset, DataLoader"
   ]
  },
  {
   "cell_type": "code",
   "execution_count": null,
   "id": "2c7c8acb",
   "metadata": {},
   "outputs": [],
   "source": [
    "rating_df = pd.read_csv('data/MovieLens/rating.csv')"
   ]
  },
  {
   "cell_type": "code",
   "execution_count": null,
   "id": "1e4f7c98",
   "metadata": {},
   "outputs": [],
   "source": [
    "rating_df.head()"
   ]
  },
  {
   "cell_type": "code",
   "execution_count": null,
   "id": "c40791ad",
   "metadata": {},
   "outputs": [],
   "source": [
    "\n",
    "rating_df['implicit'] = np.where(rating_df.rating < 4, 0, 1)\n",
    "rating_df.head()"
   ]
  },
  {
   "cell_type": "code",
   "execution_count": null,
   "id": "8c9f5257",
   "metadata": {},
   "outputs": [],
   "source": [
    "\n",
    "rows = rating_df.userId - min(rating_df.userId)\n",
    "cols = rating_df.movieId - min(rating_df.movieId)\n",
    "user_movie_coo_tensor = torch.sparse_coo_tensor([rows, cols], rating_df.implicit, dtype=torch.float)\n",
    "user_movie_dataset = TensorDataset(user_movie_coo_tensor.to_dense())\n",
    "user_movie_dataloader = DataLoader(user_movie_dataset, batch_size=500, shuffle=True)"
   ]
  },
  {
   "cell_type": "code",
   "execution_count": null,
   "id": "0769eec0",
   "metadata": {},
   "outputs": [],
   "source": [
    "class MovieLensVAE(nn.Module):\n",
    "    def __init__(self, input_dim, hidden_dim, latent_dim):\n",
    "        super().__init__()\n",
    "        self.encoder = nn.Sequential(\n",
    "            nn.Linear(in_features=input_dim, out_features=hidden_dim, bias=True),\n",
    "            nn.BatchNorm1d(hidden_dim),\n",
    "            nn.ReLU(),\n",
    "        )\n",
    "        self.mu = nn.Linear(in_features=hidden_dim, out_features=latent_dim, bias=True)\n",
    "        self.logvar = nn.Linear(in_features=hidden_dim, out_features=latent_dim, bias=True)\n",
    "        self.decoder = nn.Sequential(\n",
    "            nn.Linear(in_features=latent_dim, out_features=hidden_dim, bias=True),\n",
    "            nn.BatchNorm1d(hidden_dim),\n",
    "            nn.ReLU(),\n",
    "            nn.Linear(in_features=hidden_dim, out_features=input_dim, bias=True),\n",
    "            nn.Sigmoid(), # Return values in the range of 0-1\n",
    "        )\n",
    "    \n",
    "    def forward(self, x):\n",
    "        encoded = self.encoder(x)\n",
    "        mu = self.mu(encoded)\n",
    "        logvar = self.logvar(encoded)\n",
    "        z = self.reparameterization(mu, logvar)\n",
    "        output = self.decoder(z)\n",
    "        return output, mu, logvar\n",
    "\n",
    "    def reparameterization(self, mu, logvar):\n",
    "        e = torch.randn_like(mu)\n",
    "        std = torch.exp(logvar/2)\n",
    "        return mu + std * e\n"
   ]
  },
  {
   "cell_type": "code",
   "execution_count": null,
   "id": "94f85965",
   "metadata": {},
   "outputs": [],
   "source": [
    "# Sum of loss over all elements in the same batch\n",
    "# For each element, the loss is summed over all dimension\n",
    "def loss_func(x, x_output, mu, logvar):\n",
    "    # With binomial distribution at every pixel, the likelihood function becomes negative of \n",
    "    BCE_loss = F.binary_cross_entropy(x_output, x, reduction='sum')\n",
    "    # KL divergence: -0.5 * torch.sum(1 + logvar - mu.pow(2) - logvar.exp())\n",
    "    KLD = 0.5 * torch.sum(mu.pow(2) + logvar.exp() - 1 - logvar)\n",
    "    return BCE_loss + KLD"
   ]
  },
  {
   "cell_type": "code",
   "execution_count": null,
   "id": "5c7b35c0",
   "metadata": {},
   "outputs": [],
   "source": [
    "input_dim = max(cols) + 1\n",
    "movielens_vae = MovieLensVAE(input_dim=input_dim, hidden_dim=600, latent_dim=200)\n",
    "epochs = 200\n",
    "optimizer = optim.Adam(movielens_vae.parameters(), lr=1e-3)\n",
    "mu, logvar = None, None\n",
    "\n",
    "for epoch in range(epochs):\n",
    "    loss_error = 0\n",
    "    for dl in user_movie_dataloader:\n",
    "        x_output, mu_output, logvar_output = movielens_vae(dl[0])\n",
    "        mu, logvar = mu_output, logvar_output\n",
    "        loss = loss_func(dl[0], x_output, mu, logvar)\n",
    "\n",
    "        loss_error += loss.item()\n",
    "\n",
    "        optimizer.zero_grad()\n",
    "        loss.backward()\n",
    "        optimizer.step()\n",
    "    \n",
    "    if epoch % 10 == 0:\n",
    "        print(f\"Epoch={epoch}: Error={loss_error}\")"
   ]
  },
  {
   "cell_type": "code",
   "execution_count": null,
   "id": "789aba46",
   "metadata": {},
   "outputs": [],
   "source": []
  }
 ],
 "metadata": {
  "kernelspec": {
   "display_name": "khoihd",
   "language": "python",
   "name": "python3"
  },
  "language_info": {
   "codemirror_mode": {
    "name": "ipython",
    "version": 3
   },
   "file_extension": ".py",
   "mimetype": "text/x-python",
   "name": "python",
   "nbconvert_exporter": "python",
   "pygments_lexer": "ipython3",
   "version": "3.11.7"
  }
 },
 "nbformat": 4,
 "nbformat_minor": 5
}
