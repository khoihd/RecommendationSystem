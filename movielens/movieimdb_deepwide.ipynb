{
 "cells": [
  {
   "cell_type": "code",
   "execution_count": null,
   "id": "468d0272",
   "metadata": {},
   "outputs": [],
   "source": [
    "import torch\n",
    "import torch.nn as nn\n",
    "import torch.nn.functional as F\n",
    "import torch.optim as optim\n",
    "import pandas as pd\n",
    "from torch.utils.data import TensorDataset, Dataset, DataLoader, Subset\n",
    "import random\n",
    "from sklearn import preprocessing\n",
    "import numpy as np"
   ]
  },
  {
   "cell_type": "code",
   "execution_count": null,
   "id": "23096f8b",
   "metadata": {},
   "outputs": [],
   "source": [
    "rating_df = pd.read_csv('data/MovieLens100K/u.data', sep='\\t', names=['userId', 'movieId', 'rating', 'timestamp'])\n",
    "rating_df.head()"
   ]
  },
  {
   "cell_type": "code",
   "execution_count": null,
   "id": "2c74fda4",
   "metadata": {},
   "outputs": [],
   "source": [
    "user_df = pd.read_csv('data/MovieLens100K/u.user', sep='|', names=['userId', 'age', 'gender', 'occupation', 'zip_code'])\n",
    "print(user_df.nunique())\n",
    "# Deep network:\n",
    "#   'Age': Continuous features\n",
    "#   'Gender': Convert M/F to 0/1\n",
    "#   'Occupation': Embedding into 8-D features\n",
    "# Wide network\n",
    "#   - Crossed: 'Occupation' x 'Genre'\n",
    "\n",
    "# Process user features: age, gender, occupation\n",
    "user_df['age_emb'] = user_df.age / 100\n",
    "user_df['gender_emb'] = np.where(user_df.gender == 'M', 1, 0)\n",
    "occupation_le = preprocessing.LabelEncoder()\n",
    "user_df['occupation_le'] = occupation_le.fit_transform(user_df.occupation)\n",
    "user_df.head()"
   ]
  },
  {
   "cell_type": "code",
   "execution_count": null,
   "id": "8cb11a7b",
   "metadata": {},
   "outputs": [],
   "source": [
    "movie_df = pd.read_csv('data/MovieLens100K/u.item', sep='|', encoding='latin-1', names=['movieId', 'title', 'release_date', 'video_release_date', 'IMDb_URL', *[f'genre_{i}' for i in range(19)]])\n",
    "# Convert one-hot-encoded columns back to the original one\n",
    "# The purpose is to create crossed-features (not doable to one-hot encoding),\n",
    "#   then apply one-hot-encoding to the crossed-features for Wide network\n",
    "genre_cols = []\n",
    "for i in range(19):\n",
    "    genre_cols.append('genre_' + str(i))\n",
    "    \n",
    "movie_df['genre'] = movie_df[genre_cols].idxmax(axis='columns').str.replace(\"genre_\", \"\")\n",
    "movie_df.drop(['title', 'release_date',\t'video_release_date', 'IMDb_URL'], axis=1, inplace=True)\n",
    "movie_df.head()"
   ]
  },
  {
   "cell_type": "code",
   "execution_count": null,
   "id": "11061781",
   "metadata": {},
   "outputs": [],
   "source": [
    "user_movie_df = pd.merge(rating_df[['userId', 'movieId', 'rating']],\n",
    "                         user_df[['userId', 'age_emb', 'gender_emb', 'occupation_le']],\n",
    "                         on='userId', how='left'\n",
    "                         )\n",
    "user_movie_df.head()"
   ]
  },
  {
   "cell_type": "code",
   "execution_count": null,
   "id": "870f7b5e",
   "metadata": {},
   "outputs": [],
   "source": [
    "user_movie_df = pd.merge(user_movie_df, \n",
    "                         movie_df, on='movieId', how='left')\n",
    "user_movie_df.head()"
   ]
  },
  {
   "cell_type": "code",
   "execution_count": null,
   "id": "c5f285bd",
   "metadata": {},
   "outputs": [],
   "source": [
    "# Create crossed-features\n",
    "user_movie_df['occupation_genre'] = user_movie_df['occupation_le'].astype(str) + \"_\" + user_movie_df['genre'].astype(str)\n",
    "one_hot_crossed_df = pd.get_dummies(user_movie_df.occupation_genre, dtype=float)\n",
    "user_movie_df = pd.merge(user_movie_df, one_hot_crossed_df, left_index=True, right_index=True)\n",
    "user_movie_df.head()"
   ]
  },
  {
   "cell_type": "code",
   "execution_count": null,
   "id": "27ef361b",
   "metadata": {},
   "outputs": [],
   "source": [
    "wide_features = one_hot_crossed_df.columns\n",
    "embedded_features = ['occupation_le']\n",
    "# age, gender, genre\n",
    "onehot_features = ['genre_' + str(i) for i in range(19)]\n",
    "deep_features = ['age_emb', 'gender_emb'] + onehot_features\n",
    "\n",
    "wide_dim = len(wide_features)\n",
    "num_embeddings = len(set(user_movie_df.occupation_le))\n",
    "onehot_dim = len(onehot_features)\n",
    "target = ['rating']"
   ]
  },
  {
   "cell_type": "code",
   "execution_count": null,
   "id": "b2538c3d",
   "metadata": {},
   "outputs": [],
   "source": [
    "class DataFrameCustomDataset(Dataset):\n",
    "    def __init__(self, df, wide_features, embedded_features, deep_features, target):\n",
    "        self.df = df\n",
    "        self.wide_features = wide_features\n",
    "        self.embedded_features = embedded_features\n",
    "        self.deep_features = deep_features\n",
    "        self.target = target\n",
    "\n",
    "    def __len__(self):\n",
    "        return len(self.df)\n",
    "    \n",
    "    def __getitem__(self, index):\n",
    "        x_wide = torch.tensor(self.df[self.wide_features].iloc[index].to_numpy(), dtype=torch.float)\n",
    "        x_embedded = torch.tensor(self.df[self.embedded_features].iloc[index].to_numpy(), dtype=torch.long)\n",
    "        x_deep = torch.tensor(self.df[self.deep_features].iloc[index].to_numpy(), dtype=torch.float)\n",
    "        y = torch.tensor(self.df[self.target].iloc[index].to_numpy(), dtype=torch.float)\n",
    "\n",
    "        return (x_wide, x_embedded, x_deep), y        "
   ]
  },
  {
   "cell_type": "code",
   "execution_count": null,
   "id": "adcaff43",
   "metadata": {},
   "outputs": [],
   "source": [
    "user_movie_dataset = DataFrameCustomDataset(user_movie_df, wide_features, embedded_features, deep_features, target)\n",
    "user_movie_dataloader = DataLoader(user_movie_dataset, batch_size=64, shuffle=True)"
   ]
  },
  {
   "cell_type": "code",
   "execution_count": null,
   "id": "1db4f339",
   "metadata": {},
   "outputs": [],
   "source": [
    "# Deep network:\n",
    "#   'Age': Continuous features\n",
    "#   'Gender': Convert M/F to 0/1\n",
    "#   'Occupation': Embedding into 8-D features\n",
    "#   'Genre':    One hot encoded\n",
    "# Wide network: \n",
    "#   occupation x genre\n",
    "class WideDeepNetwork(nn.Module):\n",
    "    def __init__(self, wide_dim, num_embeddings, onehot_dim, deep_dim=2, embedding_dim=8):\n",
    "        super().__init__()\n",
    "        self.wide = nn.Linear(in_features=wide_dim, out_features=1, bias=True)\n",
    "        self.embedding = nn.Embedding(num_embeddings=num_embeddings, embedding_dim=embedding_dim)\n",
    "        self.deep = nn.Sequential(\n",
    "            nn.Linear(in_features=deep_dim + embedding_dim + onehot_dim, out_features=64, bias=True),\n",
    "            nn.BatchNorm1d(64),\n",
    "            nn.ReLU(),\n",
    "            nn.Linear(in_features=64, out_features=32, bias=True),\n",
    "            nn.BatchNorm1d(32),\n",
    "            nn.ReLU(),\n",
    "            nn.Linear(in_features=32, out_features=16, bias=True),\n",
    "            nn.BatchNorm1d(16),\n",
    "            nn.ReLU(),\n",
    "            nn.Linear(in_features=16, out_features=1, bias=True),\n",
    "        )\n",
    "    \n",
    "    # wide: occupation x genre = x_wide\n",
    "    # deep:\n",
    "    #   occupation: embedded = x_embedded\n",
    "    #   genre: one-hot = x_deep\n",
    "    #   age, gender = x_deep\n",
    "    def forward(self, x):\n",
    "        x_wide, x_embedded, x_deep = x\n",
    "        wide_output = self.wide(x_wide)\n",
    "        embedded = self.embedding(x_embedded).squeeze(1) # (batch_size, 1, embedding_dim) -> (batch_size, embedding_dim) \n",
    "        deep_input = torch.cat((embedded, x_deep), dim=1)\n",
    "        deep_output = self.deep(deep_input)\n",
    "        return wide_output + deep_output"
   ]
  },
  {
   "cell_type": "code",
   "execution_count": null,
   "id": "b2ed2111",
   "metadata": {},
   "outputs": [],
   "source": [
    "widedeep = WideDeepNetwork(wide_dim, num_embeddings, onehot_dim)\n",
    "epochs = 100\n",
    "optimizer = optim.Adam(widedeep.parameters(), lr=1e-3)\n",
    "\n",
    "for epoch in range(epochs):\n",
    "    epoch_loss = 0\n",
    "    for (x, y) in user_movie_dataloader:\n",
    "        y_output = widedeep(x)\n",
    "        loss = F.mse_loss(y_output, y)\n",
    "        epoch_loss += loss.item()\n",
    "\n",
    "        optimizer.zero_grad()\n",
    "        loss.backward()\n",
    "        optimizer.step()\n",
    "        print(f\"Loss={loss.item()}\")\n",
    "    \n",
    "    print(f\"Loss={epoch_loss}\")    "
   ]
  }
 ],
 "metadata": {
  "kernelspec": {
   "display_name": "khoihd",
   "language": "python",
   "name": "python3"
  },
  "language_info": {
   "codemirror_mode": {
    "name": "ipython",
    "version": 3
   },
   "file_extension": ".py",
   "mimetype": "text/x-python",
   "name": "python",
   "nbconvert_exporter": "python",
   "pygments_lexer": "ipython3",
   "version": "3.11.7"
  }
 },
 "nbformat": 4,
 "nbformat_minor": 5
}
