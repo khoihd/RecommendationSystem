{
 "cells": [
  {
   "cell_type": "code",
   "execution_count": 31,
   "id": "63bfe0ec",
   "metadata": {},
   "outputs": [],
   "source": [
    "import pandas as pd\n",
    "import numpy as np\n",
    "import torch\n",
    "import torch.nn as nn\n",
    "import torch.nn.functional as F\n",
    "import torch.optim as optim\n",
    "from torcheval.metrics.functional import multiclass_accuracy\n",
    "from torch.utils.data import TensorDataset, DataLoader, Subset\n",
    "import random"
   ]
  },
  {
   "cell_type": "code",
   "execution_count": 2,
   "id": "7b9d56c5",
   "metadata": {},
   "outputs": [
    {
     "data": {
      "text/html": [
       "<div>\n",
       "<style scoped>\n",
       "    .dataframe tbody tr th:only-of-type {\n",
       "        vertical-align: middle;\n",
       "    }\n",
       "\n",
       "    .dataframe tbody tr th {\n",
       "        vertical-align: top;\n",
       "    }\n",
       "\n",
       "    .dataframe thead th {\n",
       "        text-align: right;\n",
       "    }\n",
       "</style>\n",
       "<table border=\"1\" class=\"dataframe\">\n",
       "  <thead>\n",
       "    <tr style=\"text-align: right;\">\n",
       "      <th></th>\n",
       "      <th>userId</th>\n",
       "      <th>movieId</th>\n",
       "      <th>rating</th>\n",
       "      <th>timestamp</th>\n",
       "    </tr>\n",
       "  </thead>\n",
       "  <tbody>\n",
       "    <tr>\n",
       "      <th>0</th>\n",
       "      <td>1</td>\n",
       "      <td>2</td>\n",
       "      <td>3.5</td>\n",
       "      <td>2005-04-02 23:53:47</td>\n",
       "    </tr>\n",
       "    <tr>\n",
       "      <th>1</th>\n",
       "      <td>1</td>\n",
       "      <td>29</td>\n",
       "      <td>3.5</td>\n",
       "      <td>2005-04-02 23:31:16</td>\n",
       "    </tr>\n",
       "    <tr>\n",
       "      <th>2</th>\n",
       "      <td>1</td>\n",
       "      <td>32</td>\n",
       "      <td>3.5</td>\n",
       "      <td>2005-04-02 23:33:39</td>\n",
       "    </tr>\n",
       "    <tr>\n",
       "      <th>3</th>\n",
       "      <td>1</td>\n",
       "      <td>47</td>\n",
       "      <td>3.5</td>\n",
       "      <td>2005-04-02 23:32:07</td>\n",
       "    </tr>\n",
       "    <tr>\n",
       "      <th>4</th>\n",
       "      <td>1</td>\n",
       "      <td>50</td>\n",
       "      <td>3.5</td>\n",
       "      <td>2005-04-02 23:29:40</td>\n",
       "    </tr>\n",
       "  </tbody>\n",
       "</table>\n",
       "</div>"
      ],
      "text/plain": [
       "   userId  movieId  rating            timestamp\n",
       "0       1        2     3.5  2005-04-02 23:53:47\n",
       "1       1       29     3.5  2005-04-02 23:31:16\n",
       "2       1       32     3.5  2005-04-02 23:33:39\n",
       "3       1       47     3.5  2005-04-02 23:32:07\n",
       "4       1       50     3.5  2005-04-02 23:29:40"
      ]
     },
     "execution_count": 2,
     "metadata": {},
     "output_type": "execute_result"
    }
   ],
   "source": [
    "rating_df = pd.read_csv('data/MovieLens/rating.csv')\n",
    "rating_df.head()"
   ]
  },
  {
   "cell_type": "code",
   "execution_count": 3,
   "id": "7328f478",
   "metadata": {},
   "outputs": [],
   "source": [
    "# Let's make it multi-class classification\n",
    "rating_df['normalized_rating'] = rating_df.rating\n",
    "rating_values = np.array(list(sorted(set(rating_df.rating))))\n",
    "# num_classes = len(set(rating_df.rating))\n",
    "rating_df['rating_class'] = (rating_df.rating * 2).astype(int)"
   ]
  },
  {
   "cell_type": "code",
   "execution_count": 4,
   "id": "404c6f51",
   "metadata": {},
   "outputs": [
    {
     "data": {
      "text/plain": [
       "{1, 2, 3, 4, 5, 6, 7, 8, 9, 10}"
      ]
     },
     "execution_count": 4,
     "metadata": {},
     "output_type": "execute_result"
    }
   ],
   "source": [
    "set(rating_df.rating_class)"
   ]
  },
  {
   "cell_type": "code",
   "execution_count": 5,
   "id": "3db62bfe",
   "metadata": {},
   "outputs": [],
   "source": [
    "subset_ratio = 0.003\n",
    "rows = rating_df.userId - min(rating_df.userId) # convert into index starting at 0\n",
    "cols = rating_df.movieId - min(rating_df.movieId) # convert into index starting at 0\n",
    "user_movie_coo_tensor = torch.sparse_coo_tensor([rows, cols], rating_df.rating_class.to_numpy(), dtype=torch.float)\n",
    "user_movie_dataset = TensorDataset(user_movie_coo_tensor.to_dense())\n",
    "user_movie_dataset_length = len(user_movie_dataset)\n",
    "user_movie_subset_sample_idx = random.sample(range(user_movie_dataset_length), int(user_movie_dataset_length * subset_ratio))\n",
    "user_movie_subset = Subset(user_movie_dataset, user_movie_subset_sample_idx)\n",
    "user_movie_dataloader = DataLoader(user_movie_subset, batch_size=64, shuffle=True)"
   ]
  },
  {
   "cell_type": "code",
   "execution_count": 6,
   "id": "113cb5d2",
   "metadata": {},
   "outputs": [],
   "source": [
    "class MovieLensVAE(nn.Module):\n",
    "    def __init__(self, input_dim, num_classes=6, hidden_dim=600, latent_dim=200):\n",
    "        super().__init__()\n",
    "        self.input_dim = input_dim\n",
    "        self.num_classes = num_classes\n",
    "        self.encoder = nn.Sequential(\n",
    "            nn.Linear(input_dim, hidden_dim, bias=True),\n",
    "            nn.BatchNorm1d(hidden_dim),\n",
    "            nn.ReLU()\n",
    "        )\n",
    "        self.mu = nn.Linear(hidden_dim, latent_dim, bias=True)\n",
    "        self.logvar = nn.Linear(hidden_dim, latent_dim, bias=True)\n",
    "        self.decoder = nn.Sequential(\n",
    "            nn.Linear(latent_dim, hidden_dim, bias=True),\n",
    "            nn.BatchNorm1d(hidden_dim),\n",
    "            nn.ReLU(),\n",
    "            nn.Linear(hidden_dim, input_dim * num_classes, bias=True)\n",
    "        )\n",
    "    \n",
    "    def forward(self, x):\n",
    "        latent = self.encoder(x)\n",
    "        mu = self.mu(latent)\n",
    "        logvar = self.logvar(latent)\n",
    "        z = self.reparameterization(mu, logvar)\n",
    "        x_output = self.decoder(z)\n",
    "        logits = x_output.view(-1, self.num_classes, self.input_dim)\n",
    "        return logits, mu, logvar\n",
    "\n",
    "    def reparameterization(self, mu, logvar):\n",
    "        std = torch.exp(logvar/2)\n",
    "        e = torch.randn_like(std)\n",
    "        return mu + std * e"
   ]
  },
  {
   "cell_type": "code",
   "execution_count": 7,
   "id": "8dbb4b24",
   "metadata": {},
   "outputs": [],
   "source": [
    "# Minimize cross entropy reconstruction_loss + KL Divergence\n",
    "def loss_func(x, vae_logits, mu, logvar):\n",
    "    # Reconstruction Loss\n",
    "    # input = batch_size x C x movie\n",
    "    # target = batch_size x movie\n",
    "    reconstruction_loss = F.cross_entropy(vae_logits, x.long())\n",
    "    # KL Divergence between Q(z|X) and N(0, 1)\n",
    "    KLD = 0.5 * torch.mean(mu.pow(2) + logvar.exp() - logvar - 1)\n",
    "    return reconstruction_loss + KLD"
   ]
  },
  {
   "cell_type": "code",
   "execution_count": 8,
   "id": "00014b95",
   "metadata": {},
   "outputs": [
    {
     "name": "stdout",
     "output_type": "stream",
     "text": [
      "Epoch=0, i=0: Error=2.558574676513672\n",
      "Epoch=0, i=1: Error=5.119415283203125\n",
      "Epoch=0, i=2: Error=7.621723413467407\n",
      "Epoch=0, i=3: Error=10.103929281234741\n",
      "Epoch=0, i=4: Error=12.565549373626709\n",
      "Epoch=0, i=5: Error=15.003506422042847\n",
      "Epoch=0, i=6: Error=17.42848777770996\n",
      "Epoch=1, i=0: Error=2.421232223510742\n",
      "Epoch=1, i=1: Error=4.815320253372192\n",
      "Epoch=1, i=2: Error=7.189221620559692\n",
      "Epoch=1, i=3: Error=9.538819313049316\n",
      "Epoch=1, i=4: Error=11.879055261611938\n",
      "Epoch=1, i=5: Error=14.198310136795044\n",
      "Epoch=1, i=6: Error=16.50919246673584\n",
      "Epoch=2, i=0: Error=2.282667875289917\n",
      "Epoch=2, i=1: Error=4.552778959274292\n",
      "Epoch=2, i=2: Error=6.804627180099487\n",
      "Epoch=2, i=3: Error=9.045409917831421\n",
      "Epoch=2, i=4: Error=11.254660606384277\n",
      "Epoch=2, i=5: Error=13.459369897842407\n",
      "Epoch=2, i=6: Error=15.65657114982605\n",
      "Epoch=3, i=0: Error=2.1679744720458984\n",
      "Epoch=3, i=1: Error=4.322652101516724\n",
      "Epoch=3, i=2: Error=6.459149599075317\n",
      "Epoch=3, i=3: Error=8.576249599456787\n",
      "Epoch=3, i=4: Error=10.685420751571655\n",
      "Epoch=3, i=5: Error=12.77232027053833\n",
      "Epoch=3, i=6: Error=14.844149827957153\n",
      "Epoch=4, i=0: Error=2.065480947494507\n",
      "Epoch=4, i=1: Error=4.117445468902588\n",
      "Epoch=4, i=2: Error=6.1435370445251465\n",
      "Epoch=4, i=3: Error=8.147563219070435\n",
      "Epoch=4, i=4: Error=10.134763479232788\n",
      "Epoch=4, i=5: Error=12.107206225395203\n",
      "Epoch=4, i=6: Error=14.053226590156555\n",
      "Epoch=5, i=0: Error=1.9443886280059814\n",
      "Epoch=5, i=1: Error=3.871352195739746\n",
      "Epoch=5, i=2: Error=5.783089876174927\n",
      "Epoch=5, i=3: Error=7.674912810325623\n",
      "Epoch=5, i=4: Error=9.543971419334412\n",
      "Epoch=5, i=5: Error=11.414199948310852\n",
      "Epoch=5, i=6: Error=13.275628447532654\n",
      "Epoch=6, i=0: Error=1.8376200199127197\n",
      "Epoch=6, i=1: Error=3.6471976041793823\n",
      "Epoch=6, i=2: Error=5.4494428634643555\n",
      "Epoch=6, i=3: Error=7.225449800491333\n",
      "Epoch=6, i=4: Error=8.99364709854126\n",
      "Epoch=6, i=5: Error=10.746556997299194\n",
      "Epoch=6, i=6: Error=12.47484564781189\n",
      "Epoch=7, i=0: Error=1.7118887901306152\n",
      "Epoch=7, i=1: Error=3.416529655456543\n",
      "Epoch=7, i=2: Error=5.0964401960372925\n",
      "Epoch=7, i=3: Error=6.769577145576477\n",
      "Epoch=7, i=4: Error=8.42524802684784\n",
      "Epoch=7, i=5: Error=10.07366669178009\n",
      "Epoch=7, i=6: Error=11.693848013877869\n",
      "Epoch=8, i=0: Error=1.6253759860992432\n",
      "Epoch=8, i=1: Error=3.2125710248947144\n",
      "Epoch=8, i=2: Error=4.7943726778030396\n",
      "Epoch=8, i=3: Error=6.371633529663086\n",
      "Epoch=8, i=4: Error=7.912509083747864\n",
      "Epoch=8, i=5: Error=9.429937720298767\n",
      "Epoch=8, i=6: Error=10.951467990875244\n",
      "Epoch=9, i=0: Error=1.4962149858474731\n",
      "Epoch=9, i=1: Error=2.9845787286758423\n",
      "Epoch=9, i=2: Error=4.454264044761658\n",
      "Epoch=9, i=3: Error=5.8991920948028564\n",
      "Epoch=9, i=4: Error=7.333117723464966\n",
      "Epoch=9, i=5: Error=8.752879023551941\n",
      "Epoch=9, i=6: Error=10.151961326599121\n"
     ]
    }
   ],
   "source": [
    "input_dim = max(cols) + 1\n",
    "num_classes = len(set(rating_df.rating_class)) + 1\n",
    "movielens_var = MovieLensVAE(input_dim, num_classes, hidden_dim=20, latent_dim=5)\n",
    "optimizer = optim.Adam(movielens_var.parameters(), lr=1e-3)\n",
    "epochs = 10\n",
    "\n",
    "cur_mu, cur_logvar = 0, 0\n",
    "for epoch in range(epochs):\n",
    "    loss_err = 0\n",
    "    for i, dl in enumerate(user_movie_dataloader):\n",
    "        x_output, mu, logvar = movielens_var(dl[0])\n",
    "        cur_mu, cur_logvar = mu, logvar\n",
    "        loss = loss_func(dl[0], x_output, mu, logvar)\n",
    "        loss_err += loss.item()\n",
    "\n",
    "        optimizer.zero_grad()\n",
    "        loss.backward()\n",
    "        optimizer.step()\n",
    "    \n",
    "        print(f\"Epoch={epoch}, i={i}: Error={loss_err}\")"
   ]
  },
  {
   "cell_type": "code",
   "execution_count": 26,
   "id": "07b5e13d",
   "metadata": {},
   "outputs": [],
   "source": [
    "def predict(model, x):\n",
    "    # Set the model setting to eval() mode\n",
    "    model.eval()\n",
    "    \n",
    "    # Convert x to tensor if needed\n",
    "    if not isinstance(x, torch.Tensor):\n",
    "        x = torch.tensor(x, type=torch.float)\n",
    "    \n",
    "    with torch.no_grad():\n",
    "        logits, _, _ = model(x)\n",
    "        x_output = torch.softmax(logits, dim=-1)\n",
    "        x_output = x_output.view(len(x), -1, num_classes)\n",
    "        x_output = torch.max(x_output, dim=-1)[1]\n",
    "    \n",
    "    return x_output"
   ]
  },
  {
   "cell_type": "code",
   "execution_count": 34,
   "id": "4a2476f1",
   "metadata": {},
   "outputs": [
    {
     "name": "stdout",
     "output_type": "stream",
     "text": [
      "tensor(8.9615)\n"
     ]
    }
   ],
   "source": [
    "for x in user_movie_dataloader:\n",
    "    predicted_x = predict(movielens_var, x[0])\n",
    "    acc = 0\n",
    "    for batch in range(64):\n",
    "        acc += multiclass_accuracy(x[0][i], predicted_x[i])\n",
    "    print(acc / 64 * 100)\n",
    "    break"
   ]
  }
 ],
 "metadata": {
  "kernelspec": {
   "display_name": "khoihd",
   "language": "python",
   "name": "python3"
  },
  "language_info": {
   "codemirror_mode": {
    "name": "ipython",
    "version": 3
   },
   "file_extension": ".py",
   "mimetype": "text/x-python",
   "name": "python",
   "nbconvert_exporter": "python",
   "pygments_lexer": "ipython3",
   "version": "3.11.7"
  }
 },
 "nbformat": 4,
 "nbformat_minor": 5
}
