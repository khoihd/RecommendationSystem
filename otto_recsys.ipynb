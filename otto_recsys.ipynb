{
 "cells": [
  {
   "cell_type": "code",
   "execution_count": 3,
   "id": "6724b8d3",
   "metadata": {},
   "outputs": [],
   "source": [
    "import json"
   ]
  },
  {
   "cell_type": "code",
   "execution_count": null,
   "id": "4bd2648c",
   "metadata": {},
   "outputs": [
    {
     "name": "stdout",
     "output_type": "stream",
     "text": [
      "{'session': 0, 'events': [{'aid': 1517085, 'ts': 1659304800025, 'type': 'clicks'}, {'aid': 1563459, 'ts': 1659304904511, 'type': 'clicks'}, {'aid': 1309446, 'ts': 1659367439426, 'type': 'clicks'}, {'aid': 16246, 'ts': 1659367719997, 'type': 'clicks'}, {'aid': 1781822, 'ts': 1659367871344, 'type': 'clicks'}, {'aid': 1152674, 'ts': 1659367885796, 'type': 'clicks'}, {'aid': 1649869, 'ts': 1659369893840, 'type': 'carts'}, {'aid': 461689, 'ts': 1659369898050, 'type': 'carts'}, {'aid': 305831, 'ts': 1659370027105, 'type': 'orders'}, {'aid': 461689, 'ts': 1659370027105, 'type': 'orders'}, {'aid': 362233, 'ts': 1659370064916, 'type': 'clicks'}, {'aid': 1649869, 'ts': 1659370067686, 'type': 'clicks'}, {'aid': 1649869, 'ts': 1659371003682, 'type': 'clicks'}, {'aid': 984597, 'ts': 1659371033243, 'type': 'clicks'}, {'aid': 1649869, 'ts': 1659371042297, 'type': 'clicks'}, {'aid': 803544, 'ts': 1659371044075, 'type': 'clicks'}, {'aid': 1110941, 'ts': 1659371104329, 'type': 'clicks'}, {'aid': 1190046, 'ts': 1659371123063, 'type': 'clicks'}, {'aid': 1760685, 'ts': 1659375531385, 'type': 'clicks'}, {'aid': 631008, 'ts': 1659375544399, 'type': 'clicks'}, {'aid': 461689, 'ts': 1659380437483, 'type': 'clicks'}, {'aid': 1190046, 'ts': 1659385092507, 'type': 'clicks'}, {'aid': 1650637, 'ts': 1659457550038, 'type': 'clicks'}, {'aid': 313546, 'ts': 1659457555000, 'type': 'clicks'}, {'aid': 1650637, 'ts': 1659457556864, 'type': 'clicks'}, {'aid': 979517, 'ts': 1659457682485, 'type': 'clicks'}, {'aid': 351157, 'ts': 1659457782214, 'type': 'clicks'}, {'aid': 1062149, 'ts': 1659457834849, 'type': 'clicks'}, {'aid': 1157384, 'ts': 1659457854818, 'type': 'clicks'}, {'aid': 1841388, 'ts': 1659457862516, 'type': 'clicks'}, {'aid': 1469630, 'ts': 1659531937070, 'type': 'clicks'}, {'aid': 305831, 'ts': 1659626326984, 'type': 'clicks'}, {'aid': 1110548, 'ts': 1659626335719, 'type': 'clicks'}, {'aid': 1110548, 'ts': 1659627788270, 'type': 'clicks'}, {'aid': 305831, 'ts': 1659627805792, 'type': 'clicks'}, {'aid': 1650114, 'ts': 1659632910630, 'type': 'clicks'}, {'aid': 1604396, 'ts': 1659639917844, 'type': 'clicks'}, {'aid': 1009750, 'ts': 1659640759156, 'type': 'clicks'}, {'aid': 1800933, 'ts': 1659640798950, 'type': 'clicks'}, {'aid': 495779, 'ts': 1659640818182, 'type': 'clicks'}, {'aid': 394655, 'ts': 1659640824817, 'type': 'clicks'}, {'aid': 495779, 'ts': 1659644609064, 'type': 'clicks'}, {'aid': 789245, 'ts': 1659710146448, 'type': 'clicks'}, {'aid': 789245, 'ts': 1659710157188, 'type': 'carts'}, {'aid': 366890, 'ts': 1659710161039, 'type': 'clicks'}, {'aid': 361317, 'ts': 1659710180137, 'type': 'clicks'}, {'aid': 1700164, 'ts': 1659710277855, 'type': 'clicks'}, {'aid': 1755597, 'ts': 1659710348943, 'type': 'clicks'}, {'aid': 789245, 'ts': 1659710506088, 'type': 'clicks'}, {'aid': 784978, 'ts': 1659710544821, 'type': 'clicks'}, {'aid': 1171505, 'ts': 1659710615253, 'type': 'clicks'}, {'aid': 784978, 'ts': 1659710636756, 'type': 'clicks'}, {'aid': 1700164, 'ts': 1659710643493, 'type': 'clicks'}, {'aid': 784978, 'ts': 1659710660397, 'type': 'clicks'}, {'aid': 1521766, 'ts': 1659729979807, 'type': 'clicks'}, {'aid': 1725503, 'ts': 1659774028031, 'type': 'clicks'}, {'aid': 528847, 'ts': 1659774232119, 'type': 'clicks'}, {'aid': 1816325, 'ts': 1659774337835, 'type': 'clicks'}, {'aid': 984597, 'ts': 1659774357892, 'type': 'clicks'}, {'aid': 1072782, 'ts': 1659775873688, 'type': 'clicks'}, {'aid': 173702, 'ts': 1659775934223, 'type': 'clicks'}, {'aid': 1072782, 'ts': 1659775940204, 'type': 'clicks'}, {'aid': 1407538, 'ts': 1659894272577, 'type': 'clicks'}, {'aid': 1629651, 'ts': 1659964140685, 'type': 'clicks'}, {'aid': 1768568, 'ts': 1660015113752, 'type': 'clicks'}, {'aid': 1318324, 'ts': 1660015128071, 'type': 'clicks'}, {'aid': 1840418, 'ts': 1660024261875, 'type': 'clicks'}, {'aid': 1813509, 'ts': 1660024355795, 'type': 'clicks'}, {'aid': 1813509, 'ts': 1660024376430, 'type': 'clicks'}, {'aid': 667924, 'ts': 1660024473559, 'type': 'clicks'}, {'aid': 1226444, 'ts': 1660024558718, 'type': 'clicks'}, {'aid': 709550, 'ts': 1660051792855, 'type': 'clicks'}, {'aid': 709417, 'ts': 1660051861065, 'type': 'clicks'}, {'aid': 1225559, 'ts': 1660051954808, 'type': 'clicks'}, {'aid': 1048044, 'ts': 1660051960145, 'type': 'clicks'}, {'aid': 1052813, 'ts': 1660051970995, 'type': 'clicks'}, {'aid': 1225559, 'ts': 1660157753080, 'type': 'clicks'}, {'aid': 240346, 'ts': 1660157783198, 'type': 'clicks'}, {'aid': 1582117, 'ts': 1660244973157, 'type': 'clicks'}, {'aid': 1707783, 'ts': 1660397387901, 'type': 'clicks'}, {'aid': 1624436, 'ts': 1660427603773, 'type': 'clicks'}, {'aid': 1157411, 'ts': 1660427638022, 'type': 'clicks'}, {'aid': 358305, 'ts': 1660427747431, 'type': 'clicks'}, {'aid': 1202970, 'ts': 1660487679331, 'type': 'clicks'}, {'aid': 832192, 'ts': 1660503007938, 'type': 'clicks'}, {'aid': 1498443, 'ts': 1660503022035, 'type': 'clicks'}, {'aid': 723931, 'ts': 1660544235597, 'type': 'clicks'}, {'aid': 1436439, 'ts': 1660544269960, 'type': 'clicks'}, {'aid': 1693461, 'ts': 1660544287455, 'type': 'clicks'}, {'aid': 1206554, 'ts': 1660544299221, 'type': 'clicks'}, {'aid': 1110741, 'ts': 1660546139893, 'type': 'clicks'}, {'aid': 346352, 'ts': 1660546161409, 'type': 'clicks'}, {'aid': 1802050, 'ts': 1660546183298, 'type': 'clicks'}, {'aid': 154930, 'ts': 1660546209381, 'type': 'clicks'}, {'aid': 964169, 'ts': 1660546305529, 'type': 'clicks'}, {'aid': 964169, 'ts': 1660560966498, 'type': 'clicks'}, {'aid': 823637, 'ts': 1660561030556, 'type': 'clicks'}, {'aid': 964169, 'ts': 1660561080714, 'type': 'clicks'}, {'aid': 1411683, 'ts': 1660561089802, 'type': 'clicks'}, {'aid': 964169, 'ts': 1660561117871, 'type': 'clicks'}, {'aid': 1167722, 'ts': 1660561126514, 'type': 'clicks'}, {'aid': 964169, 'ts': 1660561134273, 'type': 'clicks'}, {'aid': 1619737, 'ts': 1660561148997, 'type': 'clicks'}, {'aid': 964169, 'ts': 1660561164172, 'type': 'clicks'}, {'aid': 1840615, 'ts': 1660561171658, 'type': 'clicks'}, {'aid': 512756, 'ts': 1660609863481, 'type': 'clicks'}, {'aid': 946219, 'ts': 1660610026720, 'type': 'clicks'}, {'aid': 1090479, 'ts': 1660610071104, 'type': 'clicks'}, {'aid': 1164387, 'ts': 1660610121763, 'type': 'clicks'}, {'aid': 1308544, 'ts': 1660610152804, 'type': 'clicks'}, {'aid': 719622, 'ts': 1660628330847, 'type': 'clicks'}, {'aid': 1750538, 'ts': 1660628368623, 'type': 'clicks'}, {'aid': 1443747, 'ts': 1660628405346, 'type': 'clicks'}, {'aid': 1750538, 'ts': 1660628462681, 'type': 'clicks'}, {'aid': 337364, 'ts': 1660664901829, 'type': 'clicks'}, {'aid': 1653945, 'ts': 1660664961835, 'type': 'clicks'}, {'aid': 1222638, 'ts': 1660665033172, 'type': 'clicks'}, {'aid': 1622987, 'ts': 1660665303865, 'type': 'clicks'}, {'aid': 608383, 'ts': 1660665647387, 'type': 'clicks'}, {'aid': 1460239, 'ts': 1660739325748, 'type': 'clicks'}, {'aid': 1436439, 'ts': 1660739348796, 'type': 'clicks'}, {'aid': 321397, 'ts': 1660743499983, 'type': 'clicks'}, {'aid': 828625, 'ts': 1660743606777, 'type': 'clicks'}, {'aid': 1624436, 'ts': 1660744083719, 'type': 'clicks'}, {'aid': 1157411, 'ts': 1660744125198, 'type': 'clicks'}, {'aid': 1537907, 'ts': 1660744194187, 'type': 'clicks'}, {'aid': 1070142, 'ts': 1660744220834, 'type': 'clicks'}, {'aid': 959208, 'ts': 1660762627101, 'type': 'clicks'}, {'aid': 275288, 'ts': 1660801729835, 'type': 'clicks'}, {'aid': 1318324, 'ts': 1660801799774, 'type': 'clicks'}, {'aid': 1072782, 'ts': 1660801833403, 'type': 'clicks'}, {'aid': 1072782, 'ts': 1660801845183, 'type': 'clicks'}, {'aid': 173702, 'ts': 1660801854389, 'type': 'clicks'}, {'aid': 1428075, 'ts': 1660835311717, 'type': 'clicks'}, {'aid': 892659, 'ts': 1660895211775, 'type': 'clicks'}, {'aid': 1127565, 'ts': 1660895222884, 'type': 'clicks'}, {'aid': 1072782, 'ts': 1660895259741, 'type': 'clicks'}, {'aid': 97836, 'ts': 1660895309293, 'type': 'clicks'}, {'aid': 384343, 'ts': 1660983402330, 'type': 'clicks'}, {'aid': 218130, 'ts': 1661017911485, 'type': 'clicks'}, {'aid': 294248, 'ts': 1661017946037, 'type': 'clicks'}, {'aid': 166547, 'ts': 1661017956449, 'type': 'clicks'}, {'aid': 504365, 'ts': 1661017998816, 'type': 'clicks'}, {'aid': 102416, 'ts': 1661019639174, 'type': 'clicks'}, {'aid': 30373, 'ts': 1661103687164, 'type': 'clicks'}, {'aid': 724999, 'ts': 1661103701418, 'type': 'clicks'}, {'aid': 1110548, 'ts': 1661103727767, 'type': 'clicks'}, {'aid': 10268, 'ts': 1661157951797, 'type': 'clicks'}, {'aid': 219925, 'ts': 1661157962188, 'type': 'clicks'}, {'aid': 1140855, 'ts': 1661157993281, 'type': 'clicks'}, {'aid': 915702, 'ts': 1661158034888, 'type': 'clicks'}, {'aid': 480578, 'ts': 1661158090652, 'type': 'clicks'}, {'aid': 1145803, 'ts': 1661158184827, 'type': 'clicks'}, {'aid': 480578, 'ts': 1661158189101, 'type': 'clicks'}, {'aid': 516456, 'ts': 1661158253105, 'type': 'clicks'}, {'aid': 536842, 'ts': 1661158285058, 'type': 'clicks'}, {'aid': 1446430, 'ts': 1661206127572, 'type': 'clicks'}, {'aid': 581169, 'ts': 1661240249947, 'type': 'clicks'}, {'aid': 976007, 'ts': 1661240257635, 'type': 'clicks'}, {'aid': 667322, 'ts': 1661240281936, 'type': 'clicks'}, {'aid': 1801525, 'ts': 1661240292181, 'type': 'clicks'}, {'aid': 1767945, 'ts': 1661240318161, 'type': 'clicks'}, {'aid': 1342014, 'ts': 1661240345599, 'type': 'clicks'}, {'aid': 1813509, 'ts': 1661289160324, 'type': 'clicks'}, {'aid': 1785321, 'ts': 1661289218136, 'type': 'clicks'}, {'aid': 1813509, 'ts': 1661289227315, 'type': 'clicks'}, {'aid': 1840615, 'ts': 1661289238313, 'type': 'clicks'}, {'aid': 1689148, 'ts': 1661289299389, 'type': 'clicks'}, {'aid': 1840615, 'ts': 1661289311093, 'type': 'clicks'}, {'aid': 72748, 'ts': 1661326681916, 'type': 'clicks'}, {'aid': 1049280, 'ts': 1661326752479, 'type': 'clicks'}, {'aid': 1436439, 'ts': 1661326789241, 'type': 'clicks'}, {'aid': 6851, 'ts': 1661326818142, 'type': 'clicks'}, {'aid': 1433235, 'ts': 1661326995238, 'type': 'clicks'}, {'aid': 7563, 'ts': 1661336115924, 'type': 'clicks'}, {'aid': 1766089, 'ts': 1661336145432, 'type': 'clicks'}, {'aid': 7563, 'ts': 1661336153894, 'type': 'clicks'}, {'aid': 570955, 'ts': 1661336161993, 'type': 'clicks'}, {'aid': 1766089, 'ts': 1661336182348, 'type': 'clicks'}, {'aid': 570955, 'ts': 1661336206826, 'type': 'clicks'}, {'aid': 974651, 'ts': 1661336218155, 'type': 'carts'}, {'aid': 974651, 'ts': 1661336222447, 'type': 'clicks'}, {'aid': 974651, 'ts': 1661336225076, 'type': 'carts'}, {'aid': 974651, 'ts': 1661336252514, 'type': 'carts'}, {'aid': 280978, 'ts': 1661336260024, 'type': 'carts'}, {'aid': 1521766, 'ts': 1661336265942, 'type': 'carts'}, {'aid': 661144, 'ts': 1661377452536, 'type': 'clicks'}, {'aid': 1760145, 'ts': 1661377467092, 'type': 'carts'}, {'aid': 1639229, 'ts': 1661377507795, 'type': 'clicks'}, {'aid': 1624436, 'ts': 1661377547329, 'type': 'clicks'}, {'aid': 738987, 'ts': 1661377571633, 'type': 'clicks'}, {'aid': 1436439, 'ts': 1661422036465, 'type': 'clicks'}, {'aid': 102416, 'ts': 1661441640992, 'type': 'clicks'}, {'aid': 190818, 'ts': 1661547489220, 'type': 'clicks'}, {'aid': 1157411, 'ts': 1661547534713, 'type': 'clicks'}, {'aid': 138431, 'ts': 1661547574171, 'type': 'clicks'}, {'aid': 543308, 'ts': 1661547622300, 'type': 'clicks'}, {'aid': 1760145, 'ts': 1661547680429, 'type': 'clicks'}, {'aid': 543308, 'ts': 1661547702839, 'type': 'clicks'}, {'aid': 275288, 'ts': 1661550299698, 'type': 'carts'}, {'aid': 275288, 'ts': 1661550315976, 'type': 'clicks'}, {'aid': 1760145, 'ts': 1661550323287, 'type': 'clicks'}, {'aid': 974651, 'ts': 1661550339661, 'type': 'clicks'}, {'aid': 974651, 'ts': 1661550341792, 'type': 'carts'}, {'aid': 1760145, 'ts': 1661550346913, 'type': 'clicks'}, {'aid': 570955, 'ts': 1661550376132, 'type': 'clicks'}, {'aid': 661144, 'ts': 1661550391128, 'type': 'clicks'}, {'aid': 362233, 'ts': 1661551907312, 'type': 'clicks'}, {'aid': 362233, 'ts': 1661551914311, 'type': 'clicks'}, {'aid': 1760145, 'ts': 1661551920731, 'type': 'clicks'}, {'aid': 275288, 'ts': 1661551929652, 'type': 'clicks'}, {'aid': 974651, 'ts': 1661551935480, 'type': 'clicks'}, {'aid': 543308, 'ts': 1661551961976, 'type': 'clicks'}, {'aid': 624343, 'ts': 1661552027429, 'type': 'clicks'}, {'aid': 543308, 'ts': 1661552069889, 'type': 'clicks'}, {'aid': 723612, 'ts': 1661552073985, 'type': 'clicks'}, {'aid': 543308, 'ts': 1661552079343, 'type': 'clicks'}, {'aid': 543308, 'ts': 1661552090532, 'type': 'carts'}, {'aid': 543308, 'ts': 1661552094001, 'type': 'carts'}, {'aid': 442293, 'ts': 1661552175174, 'type': 'clicks'}, {'aid': 442293, 'ts': 1661552201727, 'type': 'carts'}, {'aid': 442293, 'ts': 1661552224613, 'type': 'clicks'}, {'aid': 442293, 'ts': 1661552237234, 'type': 'clicks'}, {'aid': 171073, 'ts': 1661552249672, 'type': 'clicks'}, {'aid': 851778, 'ts': 1661552276235, 'type': 'clicks'}, {'aid': 976134, 'ts': 1661552295471, 'type': 'clicks'}, {'aid': 856506, 'ts': 1661552321092, 'type': 'clicks'}, {'aid': 1549618, 'ts': 1661552356671, 'type': 'carts'}, {'aid': 419161, 'ts': 1661552370948, 'type': 'clicks'}, {'aid': 543308, 'ts': 1661552394168, 'type': 'clicks'}, {'aid': 1549618, 'ts': 1661552536107, 'type': 'clicks'}, {'aid': 760277, 'ts': 1661552615456, 'type': 'clicks'}, {'aid': 1549618, 'ts': 1661552638423, 'type': 'clicks'}, {'aid': 702179, 'ts': 1661552645018, 'type': 'clicks'}, {'aid': 1549618, 'ts': 1661552648034, 'type': 'clicks'}, {'aid': 1587393, 'ts': 1661552650883, 'type': 'clicks'}, {'aid': 76358, 'ts': 1661552661754, 'type': 'clicks'}, {'aid': 1549618, 'ts': 1661552673593, 'type': 'clicks'}, {'aid': 1199474, 'ts': 1661552684092, 'type': 'clicks'}, {'aid': 1199474, 'ts': 1661552744284, 'type': 'carts'}, {'aid': 1386923, 'ts': 1661552755361, 'type': 'clicks'}, {'aid': 1055124, 'ts': 1661552768406, 'type': 'clicks'}, {'aid': 859697, 'ts': 1661552785728, 'type': 'clicks'}, {'aid': 1055124, 'ts': 1661552791386, 'type': 'clicks'}, {'aid': 1386923, 'ts': 1661552794455, 'type': 'clicks'}, {'aid': 1199474, 'ts': 1661552940651, 'type': 'orders'}, {'aid': 543308, 'ts': 1661552940651, 'type': 'orders'}, {'aid': 961113, 'ts': 1661562901716, 'type': 'clicks'}, {'aid': 883849, 'ts': 1661563120145, 'type': 'clicks'}, {'aid': 701766, 'ts': 1661586370237, 'type': 'clicks'}, {'aid': 924751, 'ts': 1661586382407, 'type': 'clicks'}, {'aid': 168206, 'ts': 1661586401880, 'type': 'clicks'}, {'aid': 924751, 'ts': 1661591004580, 'type': 'clicks'}, {'aid': 219033, 'ts': 1661593840839, 'type': 'clicks'}, {'aid': 171982, 'ts': 1661593852385, 'type': 'clicks'}, {'aid': 1319939, 'ts': 1661607646300, 'type': 'clicks'}, {'aid': 1349536, 'ts': 1661607734014, 'type': 'clicks'}, {'aid': 334392, 'ts': 1661607781173, 'type': 'clicks'}, {'aid': 1349536, 'ts': 1661607810151, 'type': 'clicks'}, {'aid': 1349536, 'ts': 1661634295803, 'type': 'clicks'}, {'aid': 165096, 'ts': 1661634321351, 'type': 'clicks'}, {'aid': 315914, 'ts': 1661634351420, 'type': 'clicks'}, {'aid': 315914, 'ts': 1661634431593, 'type': 'carts'}, {'aid': 1680276, 'ts': 1661634664923, 'type': 'clicks'}, {'aid': 1818905, 'ts': 1661634688122, 'type': 'clicks'}, {'aid': 334392, 'ts': 1661634725193, 'type': 'clicks'}, {'aid': 1048797, 'ts': 1661634830704, 'type': 'clicks'}, {'aid': 1048797, 'ts': 1661673496255, 'type': 'clicks'}, {'aid': 543308, 'ts': 1661682228301, 'type': 'clicks'}, {'aid': 341626, 'ts': 1661684136178, 'type': 'clicks'}, {'aid': 219925, 'ts': 1661684258732, 'type': 'clicks'}, {'aid': 843110, 'ts': 1661684298768, 'type': 'clicks'}, {'aid': 938007, 'ts': 1661684355390, 'type': 'clicks'}, {'aid': 1228848, 'ts': 1661684528943, 'type': 'clicks'}, {'aid': 1740927, 'ts': 1661684942173, 'type': 'clicks'}, {'aid': 161938, 'ts': 1661684983707, 'type': 'clicks'}]}\n"
     ]
    }
   ],
   "source": [
    "# SANITY CHECK:\n",
    "# CHECKED #1: actions = {'orders', 'carts', 'clicks'}\n",
    "# CHECKED #2: In every session, all event timestamps (ts) are sorted in ascending order\n",
    "all_actions = set() # {'orders', 'carts', 'clicks'}\n",
    "all_aids = set()\n",
    "\n",
    "with open('data/OTTO/train.jsonl', 'r') as f:\n",
    "    for line in f:\n",
    "        json_obs = json.loads(line)\n",
    "        print(json_obs)\n",
    "\n",
    "        for event in json_obs['events']:\n",
    "            all_actions.add(event['type'])\n",
    "            all_aids.add(event['aid'])\n",
    "\n",
    "all_actions = list(all_actions)\n",
    "all_aids_dict = {v: k for (k, v) in enumerate(all_aids)}\n"
   ]
  },
  {
   "cell_type": "code",
   "execution_count": null,
   "id": "1a4ed275",
   "metadata": {},
   "outputs": [
    {
     "name": "stdout",
     "output_type": "stream",
     "text": [
      "{'session': 12899779, 'events': [{'aid': 59625, 'ts': 1661724000278, 'type': 'clicks'}]}\n"
     ]
    }
   ],
   "source": [
    "with open('data/OTTO/test.jsonl', 'r') as f:\n",
    "    for line in f:\n",
    "        json_obs = json.loads(line)\n",
    "        print(json_obs)\n",
    "        break"
   ]
  },
  {
   "cell_type": "code",
   "execution_count": null,
   "id": "4b189583",
   "metadata": {},
   "outputs": [],
   "source": [
    "# Use sequence model to model the sequence of <aid, type>\n",
    "# Embedding <aid, time> into a single vector\n",
    "# From the hidden state of GRU:\n",
    "#   fcc_1: hidden -> aid -> softwax\n",
    "#   fcc_2: hidden -> action -> softmax\n",
    "\n",
    "# Error function?"
   ]
  },
  {
   "cell_type": "code",
   "execution_count": null,
   "id": "a927cc31",
   "metadata": {},
   "outputs": [],
   "source": [
    "# EMBEDDING:\n",
    "#   0. event: <aid, ts, type>\n",
    "#   1. aid: embedding (mapping to embedding space, e.g., 100-dim vector)\n",
    "#   2. ts: ignore the timestamp for now\n",
    "#   3. One-hot encode the action type (3-dim vector)\n",
    "\n",
    "# PADDING to convert the raw dataset into Dataset and Dataloader"
   ]
  }
 ],
 "metadata": {
  "kernelspec": {
   "display_name": "khoihd",
   "language": "python",
   "name": "python3"
  },
  "language_info": {
   "codemirror_mode": {
    "name": "ipython",
    "version": 3
   },
   "file_extension": ".py",
   "mimetype": "text/x-python",
   "name": "python",
   "nbconvert_exporter": "python",
   "pygments_lexer": "ipython3",
   "version": "3.11.7"
  }
 },
 "nbformat": 4,
 "nbformat_minor": 5
}
