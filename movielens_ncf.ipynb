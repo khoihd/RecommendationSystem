{
 "cells": [
  {
   "cell_type": "code",
   "execution_count": null,
   "id": "1b8e2940",
   "metadata": {},
   "outputs": [],
   "source": [
    "import torch\n",
    "import torch.nn as nn\n",
    "import torch.nn.functional as F\n",
    "import torch.optim as optim\n",
    "import pandas as pd\n",
    "from torch.utils.data import TensorDataset, DataLoader, Subset\n",
    "import random"
   ]
  },
  {
   "cell_type": "code",
   "execution_count": null,
   "id": "7d809ed3",
   "metadata": {},
   "outputs": [],
   "source": [
    "rating_df = pd.read_csv('data/MovieLens/rating.csv')\n",
    "rating_df.head()"
   ]
  },
  {
   "cell_type": "code",
   "execution_count": null,
   "id": "50633efe",
   "metadata": {},
   "outputs": [],
   "source": [
    "rating_df['normalized_rating'] = rating_df.rating / max(rating_df.rating)\n",
    "print(min(rating_df.normalized_rating))\n",
    "print(max(rating_df.normalized_rating))"
   ]
  },
  {
   "cell_type": "code",
   "execution_count": null,
   "id": "5ed9cac6",
   "metadata": {},
   "outputs": [],
   "source": [
    "sample_portion = 0.03\n",
    "rating_df['user_idx'] = rating_df.userId - min(rating_df.userId)\n",
    "rating_df['movie_idx'] = rating_df.movieId - min(rating_df.movieId)\n",
    "movie_lens_tensor = torch.tensor(rating_df[['user_idx', 'movie_idx', 'normalized_rating']].sample(frac=sample_portion).to_numpy(), dtype=torch.float)\n",
    "movie_lens_dataset = TensorDataset(movie_lens_tensor)\n",
    "movie_lens_dataloader = DataLoader(movie_lens_dataset, batch_size=500, shuffle=True)\n",
    "print(f\"Input size={len(movie_lens_dataset)}\")"
   ]
  },
  {
   "cell_type": "code",
   "execution_count": null,
   "id": "665de23b",
   "metadata": {},
   "outputs": [],
   "source": [
    "class NCF(nn.Module):\n",
    "    def __init__(self, user_dim, movie_dim, embedding_dim=128, dim_scale=3):\n",
    "        super().__init__()\n",
    "        # self.embedding_usr = nn.Embedding(num_embeddings=user_dim, embedding_dim=user_dim//dim_scale)\n",
    "        # self.embedding_movie = nn.Embedding(num_embeddings=movie_dim, embedding_dim=movie_dim//dim_scale)\n",
    "        self.embedding_usr = nn.Embedding(num_embeddings=user_dim, embedding_dim=embedding_dim)\n",
    "        self.embedding_movie = nn.Embedding(num_embeddings=movie_dim, embedding_dim=embedding_dim)                                  \n",
    "        self.ncf = nn.Sequential(\n",
    "            nn.Linear(in_features=embedding_dim*2, out_features=128, bias=True),\n",
    "            nn.BatchNorm1d(128),\n",
    "            nn.ReLU(),\n",
    "            nn.Linear(in_features=128, out_features=64, bias=True),\n",
    "            nn.BatchNorm1d(64),\n",
    "            nn.ReLU(),\n",
    "            nn.Linear(in_features=64, out_features=1, bias=True),\n",
    "            nn.Sigmoid()\n",
    "        )\n",
    "    \n",
    "    # 500 x 3\n",
    "    def forward(self, x):\n",
    "        user_embedded = self.embedding_usr(x[:,0].int()) # Get all batch_size from the 1st dimension\n",
    "        movie_embedded = self.embedding_movie(x[:,1].int()) # Get all batch_size from the 1st dimension\n",
    "        embedding = torch.cat([user_embedded, movie_embedded], dim=1)\n",
    "        return self.ncf(embedding)\n"
   ]
  },
  {
   "cell_type": "code",
   "execution_count": null,
   "id": "650827cc",
   "metadata": {},
   "outputs": [],
   "source": [
    "user_dim = max(rating_df.user_idx) + 1\n",
    "movie_dim = max(rating_df.movie_idx) + 1\n",
    "ncf = NCF(user_dim=user_dim, movie_dim=movie_dim)\n",
    "epochs = 200\n",
    "optimizer = optim.Adam(ncf.parameters(), lr=1e-3)\n",
    "loss_func = torch.nn.MSELoss()\n",
    "\n",
    "for epoch in range(epochs):\n",
    "    err_loss = 0\n",
    "    for i, dl in enumerate(movie_lens_dataloader):\n",
    "        x_output = ncf(dl[0])\n",
    "        loss = loss_func(x_output, dl[0][:,2])\n",
    "        \n",
    "        optimizer.zero_grad()\n",
    "        loss.backward()\n",
    "        optimizer.step()\n",
    "\n",
    "        err_loss += loss.item()\n",
    "    print(f\"Epoch={epoch}: loss={err_loss}\")        "
   ]
  }
 ],
 "metadata": {
  "kernelspec": {
   "display_name": "khoihd",
   "language": "python",
   "name": "python3"
  },
  "language_info": {
   "codemirror_mode": {
    "name": "ipython",
    "version": 3
   },
   "file_extension": ".py",
   "mimetype": "text/x-python",
   "name": "python",
   "nbconvert_exporter": "python",
   "pygments_lexer": "ipython3",
   "version": "3.11.7"
  }
 },
 "nbformat": 4,
 "nbformat_minor": 5
}
