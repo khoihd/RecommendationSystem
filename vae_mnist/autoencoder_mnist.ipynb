{
 "cells": [
  {
   "cell_type": "code",
   "execution_count": 1,
   "outputs": [],
   "source": [
    "from torchvision import datasets\n",
    "from torchvision.transforms import ToTensor\n",
    "import torch\n",
    "import torch.nn as nn\n",
    "import torch.optim as optim\n",
    "import matplotlib.pyplot as plt"
   ],
   "metadata": {
    "collapsed": false,
    "ExecuteTime": {
     "end_time": "2025-04-09T10:09:09.497105Z",
     "start_time": "2025-04-09T10:09:04.940156Z"
    }
   },
   "id": "44bc18c580791746"
  },
  {
   "cell_type": "code",
   "execution_count": 2,
   "outputs": [],
   "source": [
    "training_data = datasets.FashionMNIST(\n",
    "    root='./data',\n",
    "    train=True,\n",
    "    download=True,\n",
    "    transform=ToTensor()\n",
    ")\n",
    "test_data = datasets.FashionMNIST(\n",
    "    root='./data',\n",
    "    train=False,\n",
    "    download=True,\n",
    "    transform=ToTensor()\n",
    ")"
   ],
   "metadata": {
    "collapsed": false,
    "ExecuteTime": {
     "end_time": "2025-04-09T10:09:09.536136Z",
     "start_time": "2025-04-09T10:09:09.496688Z"
    }
   },
   "id": "5a0d9d78e92b4e37"
  },
  {
   "cell_type": "code",
   "execution_count": 3,
   "outputs": [],
   "source": [
    "from torch.utils.data import DataLoader\n",
    "\n",
    "training_dataloader = DataLoader(training_data, batch_size=64, shuffle=True)\n",
    "test_dataloader = DataLoader(test_data, batch_size=64, shuffle=True)"
   ],
   "metadata": {
    "collapsed": false,
    "ExecuteTime": {
     "end_time": "2025-04-09T10:09:09.544266Z",
     "start_time": "2025-04-09T10:09:09.536879Z"
    }
   },
   "id": "246d50081ba6b3b7"
  },
  {
   "cell_type": "code",
   "execution_count": 4,
   "outputs": [
    {
     "data": {
      "text/plain": "<Figure size 640x480 with 1 Axes>",
      "image/png": "[encoded data removed]"
     },
     "metadata": {},
     "output_type": "display_data"
    }
   ],
   "source": [
    "# For comparison between input and latent space\n",
    "image, label = training_data[11]\n",
    "plt.imshow(image.squeeze())  # squeeze removes the single channel dimension\n",
    "plt.title(f'Label: {label}')\n",
    "plt.axis('off')\n",
    "plt.show()"
   ],
   "metadata": {
    "collapsed": false,
    "ExecuteTime": {
     "end_time": "2025-04-09T10:09:09.612537Z",
     "start_time": "2025-04-09T10:09:09.542404Z"
    }
   },
   "id": "a89c71e6e07dd0ed"
  },
  {
   "cell_type": "code",
   "execution_count": 5,
   "outputs": [
    {
     "data": {
      "text/plain": "<Figure size 640x480 with 1 Axes>",
      "image/png": "[encoded data removed]"
     },
     "metadata": {},
     "output_type": "display_data"
    },
    {
     "name": "stdout",
     "output_type": "stream",
     "text": [
      "torch.Size([1, 1, 28, 28])\n",
      "torch.Size([1, 1, 56, 56])\n"
     ]
    }
   ],
   "source": [
    "image, label = training_data[11]\n",
    "image = image.unsqueeze(0) # Add the first dimension 'batch'=1, to use interpolate (batch, channels, height, width)\n",
    "upimg = nn.functional.interpolate(image,scale_factor=2,mode='nearest-exact')\n",
    "plt.imshow(upimg.squeeze())  # squeeze removes the single channel dimension\n",
    "plt.title(f'Label: {label}')\n",
    "plt.axis('off')\n",
    "plt.show()\n",
    "print(image.size())\n",
    "print(upimg.size())"
   ],
   "metadata": {
    "collapsed": false,
    "ExecuteTime": {
     "end_time": "2025-04-09T10:09:09.679826Z",
     "start_time": "2025-04-09T10:09:09.616968Z"
    }
   },
   "id": "d7439350132dfae7"
  },
  {
   "cell_type": "code",
   "execution_count": 6,
   "outputs": [],
   "source": [
    "class FashionAutoencoder(nn.Module):\n",
    "    def __init__(self):\n",
    "        super().__init__()\n",
    "        self.encoder = nn.Sequential(\n",
    "            nn.Conv2d(in_channels=1, out_channels=16, kernel_size=3, padding='same' ), # 28x28x16\n",
    "            nn.ReLU(),\n",
    "            nn.MaxPool2d(kernel_size=2), # 14x14x16\n",
    "            nn.Conv2d(in_channels=16, out_channels=8, kernel_size=3, padding='same'), # 14x14x8\n",
    "            nn.ReLU(),\n",
    "            nn.MaxPool2d(kernel_size=2), # 7x7x8\n",
    "            nn.Conv2d(in_channels=8, out_channels=8, kernel_size=3, padding='same'), # 7x7x8\n",
    "            nn.ReLU(),\n",
    "            # nn.MaxPool2d(kernel_size=2), # 3x3x8, which is the latent space\n",
    "            nn.MaxPool2d(kernel_size=2, stride=2, padding=1) # 4x4x8, which is the latent space\n",
    "        )\n",
    "        self.decoder = nn.Sequential(\n",
    "            nn.Conv2d(in_channels=8, out_channels=8, kernel_size=3, padding='same'), # 4x4x8\n",
    "            nn.ReLU(),\n",
    "            nn.Upsample(scale_factor=2, mode='nearest-exact'), # 8x8x8\n",
    "            nn.Conv2d(in_channels=8, out_channels=8, kernel_size=3, padding='same'), # 8x8x8\n",
    "            nn.ReLU(),\n",
    "            nn.Upsample(scale_factor=2, mode='nearest-exact'), # 16x16x8\n",
    "            nn.Conv2d(in_channels=8, out_channels=8, kernel_size=3, padding='same'), # 16x16x8\n",
    "            nn.ReLU(),\n",
    "            nn.Upsample(scale_factor=2, mode='nearest-exact'), # 32x32x8        \n",
    "            nn.Conv2d(in_channels=8, out_channels=1, kernel_size=5, padding=0), # 28x28x1\n",
    "            nn.Sigmoid()\n",
    "        )\n",
    "        \n",
    "    def forward(self, x):\n",
    "        x = self.encoder(x)\n",
    "        x = self.decoder(x)\n",
    "        return x"
   ],
   "metadata": {
    "collapsed": false,
    "ExecuteTime": {
     "end_time": "2025-04-09T10:09:09.680029Z",
     "start_time": "2025-04-09T10:09:09.658916Z"
    }
   },
   "id": "5cc40871f429cacc"
  },
  {
   "cell_type": "code",
   "execution_count": 7,
   "outputs": [
    {
     "name": "stdout",
     "output_type": "stream",
     "text": [
      "Using device: mps\n"
     ]
    }
   ],
   "source": [
    "# Check for MPS availability (for Apple Silicon)\n",
    "device = torch.device(\"mps\" if torch.backends.mps.is_available() else \"cpu\")\n",
    "print(f\"Using device: {device}\")\n",
    "\n",
    "model = FashionAutoencoder()\n",
    "model.to(device) # Move model to MPS or CPU\n",
    "loss_fn = nn.BCELoss()\n",
    "optimizer = optim.Adam(model.parameters(), lr=0.001)"
   ],
   "metadata": {
    "collapsed": false,
    "ExecuteTime": {
     "end_time": "2025-04-09T10:09:09.776187Z",
     "start_time": "2025-04-09T10:09:09.690704Z"
    }
   },
   "id": "f9976953d4083735"
  },
  {
   "cell_type": "code",
   "execution_count": 8,
   "outputs": [
    {
     "name": "stdout",
     "output_type": "stream",
     "text": [
      "Epoch [1/100], Loss: 0.2681\n",
      "Epoch [2/100], Loss: 0.2764\n",
      "Epoch [3/100], Loss: 0.3016\n",
      "Epoch [4/100], Loss: 0.3173\n",
      "Epoch [5/100], Loss: 0.2858\n",
      "Epoch [6/100], Loss: 0.2880\n",
      "Epoch [7/100], Loss: 0.2936\n",
      "Epoch [8/100], Loss: 0.2969\n",
      "Epoch [9/100], Loss: 0.2854\n",
      "Epoch [10/100], Loss: 0.2721\n",
      "Epoch [11/100], Loss: 0.3098\n",
      "Epoch [12/100], Loss: 0.2895\n",
      "Epoch [13/100], Loss: 0.2489\n",
      "Epoch [14/100], Loss: 0.2906\n",
      "Epoch [15/100], Loss: 0.2878\n",
      "Epoch [16/100], Loss: 0.2981\n",
      "Epoch [17/100], Loss: 0.3076\n",
      "Epoch [18/100], Loss: 0.2858\n",
      "Epoch [19/100], Loss: 0.3104\n",
      "Epoch [20/100], Loss: 0.2684\n",
      "Epoch [21/100], Loss: 0.2797\n",
      "Epoch [22/100], Loss: 0.2927\n",
      "Epoch [23/100], Loss: 0.2749\n",
      "Epoch [24/100], Loss: 0.2681\n",
      "Epoch [25/100], Loss: 0.2747\n",
      "Epoch [26/100], Loss: 0.2786\n",
      "Epoch [27/100], Loss: 0.2714\n",
      "Epoch [28/100], Loss: 0.2960\n",
      "Epoch [29/100], Loss: 0.3098\n",
      "Epoch [30/100], Loss: 0.2877\n",
      "Epoch [31/100], Loss: 0.2913\n",
      "Epoch [32/100], Loss: 0.2784\n",
      "Epoch [33/100], Loss: 0.2767\n",
      "Epoch [34/100], Loss: 0.2734\n",
      "Epoch [35/100], Loss: 0.2409\n",
      "Epoch [36/100], Loss: 0.2682\n",
      "Epoch [37/100], Loss: 0.2933\n",
      "Epoch [38/100], Loss: 0.2655\n",
      "Epoch [39/100], Loss: 0.2524\n",
      "Epoch [40/100], Loss: 0.2884\n",
      "Epoch [41/100], Loss: 0.2729\n",
      "Epoch [42/100], Loss: 0.3006\n",
      "Epoch [43/100], Loss: 0.2917\n",
      "Epoch [44/100], Loss: 0.2956\n",
      "Epoch [45/100], Loss: 0.2823\n",
      "Epoch [46/100], Loss: 0.2962\n",
      "Epoch [47/100], Loss: 0.2916\n",
      "Epoch [48/100], Loss: 0.2810\n",
      "Epoch [49/100], Loss: 0.2697\n",
      "Epoch [50/100], Loss: 0.2732\n",
      "Epoch [51/100], Loss: 0.2933\n",
      "Epoch [52/100], Loss: 0.2813\n",
      "Epoch [53/100], Loss: 0.2723\n",
      "Epoch [54/100], Loss: 0.2820\n",
      "Epoch [55/100], Loss: 0.2729\n",
      "Epoch [56/100], Loss: 0.2900\n",
      "Epoch [57/100], Loss: 0.2877\n",
      "Epoch [58/100], Loss: 0.2944\n",
      "Epoch [59/100], Loss: 0.2829\n",
      "Epoch [60/100], Loss: 0.2704\n",
      "Epoch [61/100], Loss: 0.2665\n",
      "Epoch [62/100], Loss: 0.2612\n",
      "Epoch [63/100], Loss: 0.2728\n",
      "Epoch [64/100], Loss: 0.2766\n",
      "Epoch [65/100], Loss: 0.2737\n",
      "Epoch [66/100], Loss: 0.2775\n",
      "Epoch [67/100], Loss: 0.2659\n",
      "Epoch [68/100], Loss: 0.2621\n",
      "Epoch [69/100], Loss: 0.2842\n",
      "Epoch [70/100], Loss: 0.2984\n",
      "Epoch [71/100], Loss: 0.2918\n",
      "Epoch [72/100], Loss: 0.2820\n",
      "Epoch [73/100], Loss: 0.2982\n",
      "Epoch [74/100], Loss: 0.2685\n",
      "Epoch [75/100], Loss: 0.2841\n",
      "Epoch [76/100], Loss: 0.2731\n",
      "Epoch [77/100], Loss: 0.2748\n",
      "Epoch [78/100], Loss: 0.2756\n",
      "Epoch [79/100], Loss: 0.2745\n",
      "Epoch [80/100], Loss: 0.2937\n",
      "Epoch [81/100], Loss: 0.2616\n",
      "Epoch [82/100], Loss: 0.3046\n",
      "Epoch [83/100], Loss: 0.2461\n",
      "Epoch [84/100], Loss: 0.2856\n",
      "Epoch [85/100], Loss: 0.2867\n",
      "Epoch [86/100], Loss: 0.2702\n",
      "Epoch [87/100], Loss: 0.2728\n",
      "Epoch [88/100], Loss: 0.2998\n",
      "Epoch [89/100], Loss: 0.3056\n",
      "Epoch [90/100], Loss: 0.2759\n",
      "Epoch [91/100], Loss: 0.2882\n",
      "Epoch [92/100], Loss: 0.2490\n",
      "Epoch [93/100], Loss: 0.2820\n",
      "Epoch [94/100], Loss: 0.3013\n",
      "Epoch [95/100], Loss: 0.2712\n",
      "Epoch [96/100], Loss: 0.2728\n",
      "Epoch [97/100], Loss: 0.2664\n",
      "Epoch [98/100], Loss: 0.2870\n",
      "Epoch [99/100], Loss: 0.2855\n",
      "Epoch [100/100], Loss: 0.2769\n"
     ]
    }
   ],
   "source": [
    "epochs = 100\n",
    "for epoch in range(epochs):\n",
    "    # Each data is a batch of 64 images\n",
    "    for data in training_dataloader:\n",
    "        img, label = data\n",
    "        img = img.to(device)\n",
    "        optimizer.zero_grad()\n",
    "        output = model(img)\n",
    "        loss = loss_fn(output, img)\n",
    "        loss.backward()\n",
    "        optimizer.step()\n",
    "    print(f'Epoch [{epoch+1}/{epochs}], Loss: {loss.item():.4f}')"
   ],
   "metadata": {
    "collapsed": false,
    "ExecuteTime": {
     "end_time": "2025-04-09T10:25:45.886298Z",
     "start_time": "2025-04-09T10:09:09.757155Z"
    }
   },
   "id": "767c24c48133c9b9"
  },
  {
   "cell_type": "code",
   "execution_count": 9,
   "outputs": [
    {
     "data": {
      "text/plain": "<Figure size 640x480 with 1 Axes>",
      "image/png": "[encoded data removed]"
     },
     "metadata": {},
     "output_type": "display_data"
    }
   ],
   "source": [
    "# Now testing the Autoencoder\n",
    "# For comparison between input and latent space\n",
    "image, label = training_data[11]\n",
    "plt.imshow(image.squeeze())  # squeeze removes the single channel dimension\n",
    "plt.title(f'Label: {label}')\n",
    "plt.axis('off')\n",
    "plt.show()"
   ],
   "metadata": {
    "collapsed": false,
    "ExecuteTime": {
     "end_time": "2025-04-09T10:25:45.957659Z",
     "start_time": "2025-04-09T10:25:45.884983Z"
    }
   },
   "id": "9f7bcb492d91c4b3"
  },
  {
   "cell_type": "code",
   "execution_count": 10,
   "outputs": [
    {
     "name": "stdout",
     "output_type": "stream",
     "text": [
      "torch.Size([1, 1, 28, 28])\n"
     ]
    },
    {
     "data": {
      "text/plain": "<Figure size 640x480 with 1 Axes>",
      "image/png": "[encoded data removed]"
     },
     "metadata": {},
     "output_type": "display_data"
    }
   ],
   "source": [
    "image, label = training_data[11]\n",
    "image = image.unsqueeze(0).to(device) # Adding batch_size = 1\n",
    "print(image.size())\n",
    "output_img = model(image).detach().cpu()\n",
    "# print(output_img.size())\n",
    "# print(output_img.min())\n",
    "# print(output_img.max())\n",
    "plt.imshow(output_img.squeeze())  # squeeze removes the single channel dimension\n",
    "plt.title(f'Label: {label}')\n",
    "plt.axis('off')\n",
    "plt.show()"
   ],
   "metadata": {
    "collapsed": false,
    "ExecuteTime": {
     "end_time": "2025-04-09T10:25:46.361437Z",
     "start_time": "2025-04-09T10:25:45.935327Z"
    }
   },
   "id": "7a1f9e7b7b82ac85"
  }
 ],
 "metadata": {
  "kernelspec": {
   "display_name": "Python 3",
   "language": "python",
   "name": "python3"
  },
  "language_info": {
   "codemirror_mode": {
    "name": "ipython",
    "version": 2
   },
   "file_extension": ".py",
   "mimetype": "text/x-python",
   "name": "python",
   "nbconvert_exporter": "python",
   "pygments_lexer": "ipython2",
   "version": "2.7.6"
  }
 },
 "nbformat": 4,
 "nbformat_minor": 5
}
